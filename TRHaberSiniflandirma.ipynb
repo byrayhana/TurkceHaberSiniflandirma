{
 "cells": [
  {
   "cell_type": "code",
   "execution_count": 1,
   "id": "43fabef5",
   "metadata": {
    "_cell_guid": "b1076dfc-b9ad-4769-8c92-a6c4dae69d19",
    "_uuid": "8f2839f25d086af736a60e9eeb907d3b93b6e0e5",
    "execution": {
     "iopub.execute_input": "2024-05-15T13:06:42.865872Z",
     "iopub.status.busy": "2024-05-15T13:06:42.865249Z",
     "iopub.status.idle": "2024-05-15T13:06:44.210948Z",
     "shell.execute_reply": "2024-05-15T13:06:44.209754Z"
    },
    "papermill": {
     "duration": 1.363467,
     "end_time": "2024-05-15T13:06:44.213271",
     "exception": false,
     "start_time": "2024-05-15T13:06:42.849804",
     "status": "completed"
    },
    "tags": []
   },
   "outputs": [
    {
     "name": "stdout",
     "output_type": "stream",
     "text": [
      "/kaggle/input/turkcehaber/data.csv\n",
      "/kaggle/input/trstopwordss/tr_stop_word.txt\n"
     ]
    }
   ],
   "source": [
    "# This Python 3 environment comes with many helpful analytics libraries installed\n",
    "# It is defined by the kaggle/python Docker image: https://github.com/kaggle/docker-python\n",
    "# For example, here's several helpful packages to load\n",
    "\n",
    "import numpy as np # linear algebra\n",
    "import pandas as pd # data processing, CSV file I/O (e.g. pd.read_csv)\n",
    "\n",
    "# Input data files are available in the read-only \"../input/\" directory\n",
    "# For example, running this (by clicking run or pressing Shift+Enter) will list all files under the input directory\n",
    "\n",
    "import os\n",
    "for dirname, _, filenames in os.walk('/kaggle/input'):\n",
    "    for filename in filenames:\n",
    "        print(os.path.join(dirname, filename))\n",
    "\n",
    "# You can write up to 20GB to the current directory (/kaggle/working/) that gets preserved as output when you create a version using \"Save & Run All\" \n",
    "# You can also write temporary files to /kaggle/temp/, but they won't be saved outside of the current session"
   ]
  },
  {
   "cell_type": "code",
   "execution_count": 2,
   "id": "b12385d7",
   "metadata": {
    "execution": {
     "iopub.execute_input": "2024-05-15T13:06:44.244413Z",
     "iopub.status.busy": "2024-05-15T13:06:44.243588Z",
     "iopub.status.idle": "2024-05-15T13:06:47.687572Z",
     "shell.execute_reply": "2024-05-15T13:06:47.686786Z"
    },
    "papermill": {
     "duration": 3.461723,
     "end_time": "2024-05-15T13:06:47.689821",
     "exception": false,
     "start_time": "2024-05-15T13:06:44.228098",
     "status": "completed"
    },
    "tags": []
   },
   "outputs": [
    {
     "name": "stderr",
     "output_type": "stream",
     "text": [
      "/opt/conda/lib/python3.10/site-packages/nltk/twitter/__init__.py:20: UserWarning: The twython library has not been installed. Some functionality from the twitter package will not be available.\n",
      "  warnings.warn(\"The twython library has not been installed. \"\n"
     ]
    }
   ],
   "source": [
    "from warnings import filterwarnings\n",
    "import matplotlib.pyplot as plt\n",
    "import numpy as np\n",
    "import pandas as pd\n",
    "from PIL import Image\n",
    "from nltk.corpus import stopwords\n",
    "from nltk.sentiment import SentimentIntensityAnalyzer\n",
    "from sklearn.ensemble import RandomForestClassifier\n",
    "from sklearn.linear_model import LogisticRegression\n",
    "from sklearn.model_selection import cross_val_score, GridSearchCV, cross_validate\n",
    "from sklearn.preprocessing import LabelEncoder\n",
    "from textblob import Word, TextBlob\n",
    "from wordcloud import WordCloud\n",
    "import re"
   ]
  },
  {
   "cell_type": "code",
   "execution_count": 3,
   "id": "0b477b3f",
   "metadata": {
    "execution": {
     "iopub.execute_input": "2024-05-15T13:06:47.719551Z",
     "iopub.status.busy": "2024-05-15T13:06:47.719145Z",
     "iopub.status.idle": "2024-05-15T13:06:47.723981Z",
     "shell.execute_reply": "2024-05-15T13:06:47.723168Z"
    },
    "papermill": {
     "duration": 0.021601,
     "end_time": "2024-05-15T13:06:47.725920",
     "exception": false,
     "start_time": "2024-05-15T13:06:47.704319",
     "status": "completed"
    },
    "tags": []
   },
   "outputs": [],
   "source": [
    "filterwarnings('ignore')\n",
    "pd.set_option('display.max_columns', None)\n",
    "pd.set_option('display.width', 200)\n",
    "pd.set_option('display.float_format', lambda x: '%.2f' % x)"
   ]
  },
  {
   "cell_type": "markdown",
   "id": "e528534a",
   "metadata": {
    "papermill": {
     "duration": 0.013659,
     "end_time": "2024-05-15T13:06:47.754262",
     "exception": false,
     "start_time": "2024-05-15T13:06:47.740603",
     "status": "completed"
    },
    "tags": []
   },
   "source": [
    "# **Text Preprocessing**"
   ]
  },
  {
   "cell_type": "code",
   "execution_count": 4,
   "id": "5df1ce2a",
   "metadata": {
    "execution": {
     "iopub.execute_input": "2024-05-15T13:06:47.783165Z",
     "iopub.status.busy": "2024-05-15T13:06:47.782880Z",
     "iopub.status.idle": "2024-05-15T13:08:03.711257Z",
     "shell.execute_reply": "2024-05-15T13:08:03.710352Z"
    },
    "papermill": {
     "duration": 75.959143,
     "end_time": "2024-05-15T13:08:03.727312",
     "exception": false,
     "start_time": "2024-05-15T13:06:47.768169",
     "status": "completed"
    },
    "tags": []
   },
   "outputs": [
    {
     "data": {
      "text/html": [
       "<div>\n",
       "<style scoped>\n",
       "    .dataframe tbody tr th:only-of-type {\n",
       "        vertical-align: middle;\n",
       "    }\n",
       "\n",
       "    .dataframe tbody tr th {\n",
       "        vertical-align: top;\n",
       "    }\n",
       "\n",
       "    .dataframe thead th {\n",
       "        text-align: right;\n",
       "    }\n",
       "</style>\n",
       "<table border=\"1\" class=\"dataframe\">\n",
       "  <thead>\n",
       "    <tr style=\"text-align: right;\">\n",
       "      <th></th>\n",
       "      <th>Haber Gövdesi</th>\n",
       "      <th>Sınıf</th>\n",
       "    </tr>\n",
       "  </thead>\n",
       "  <tbody>\n",
       "    <tr>\n",
       "      <th>0</th>\n",
       "      <td>Para, şöhret, hepsi var! Peki neden boşanıyorl...</td>\n",
       "      <td>Magazin</td>\n",
       "    </tr>\n",
       "    <tr>\n",
       "      <th>1</th>\n",
       "      <td>Sosyetik güzel Eda Taşpınar, önceki gün Taraby...</td>\n",
       "      <td>Magazin</td>\n",
       "    </tr>\n",
       "    <tr>\n",
       "      <th>2</th>\n",
       "      <td>Suudi Arabistan, İsrail ablukası altındaki Gaz...</td>\n",
       "      <td>Siyaset</td>\n",
       "    </tr>\n",
       "    <tr>\n",
       "      <th>3</th>\n",
       "      <td>MHP Lideri Devlet Bahçeli'den \"Selahattin Demi...</td>\n",
       "      <td>Siyaset</td>\n",
       "    </tr>\n",
       "    <tr>\n",
       "      <th>4</th>\n",
       "      <td>Sıla koronavirüse yakalandı, konserleri ertele...</td>\n",
       "      <td>Magazin</td>\n",
       "    </tr>\n",
       "  </tbody>\n",
       "</table>\n",
       "</div>"
      ],
      "text/plain": [
       "                                       Haber Gövdesi    Sınıf\n",
       "0  Para, şöhret, hepsi var! Peki neden boşanıyorl...  Magazin\n",
       "1  Sosyetik güzel Eda Taşpınar, önceki gün Taraby...  Magazin\n",
       "2  Suudi Arabistan, İsrail ablukası altındaki Gaz...  Siyaset\n",
       "3  MHP Lideri Devlet Bahçeli'den \"Selahattin Demi...  Siyaset\n",
       "4  Sıla koronavirüse yakalandı, konserleri ertele...  Magazin"
      ]
     },
     "execution_count": 4,
     "metadata": {},
     "output_type": "execute_result"
    }
   ],
   "source": [
    "df=df = pd.read_csv(\"/kaggle/input/turkcehaber/data.csv\")\n",
    "df.head()"
   ]
  },
  {
   "cell_type": "code",
   "execution_count": 5,
   "id": "828f4ee0",
   "metadata": {
    "execution": {
     "iopub.execute_input": "2024-05-15T13:08:03.756457Z",
     "iopub.status.busy": "2024-05-15T13:08:03.756185Z",
     "iopub.status.idle": "2024-05-15T13:08:03.812073Z",
     "shell.execute_reply": "2024-05-15T13:08:03.811217Z"
    },
    "papermill": {
     "duration": 0.072671,
     "end_time": "2024-05-15T13:08:03.813958",
     "exception": false,
     "start_time": "2024-05-15T13:08:03.741287",
     "status": "completed"
    },
    "tags": []
   },
   "outputs": [],
   "source": [
    "dff=df.copy()"
   ]
  },
  {
   "cell_type": "code",
   "execution_count": 6,
   "id": "e4008549",
   "metadata": {
    "execution": {
     "iopub.execute_input": "2024-05-15T13:08:03.843571Z",
     "iopub.status.busy": "2024-05-15T13:08:03.843279Z",
     "iopub.status.idle": "2024-05-15T13:08:03.848044Z",
     "shell.execute_reply": "2024-05-15T13:08:03.847270Z"
    },
    "papermill": {
     "duration": 0.021681,
     "end_time": "2024-05-15T13:08:03.849877",
     "exception": false,
     "start_time": "2024-05-15T13:08:03.828196",
     "status": "completed"
    },
    "tags": []
   },
   "outputs": [],
   "source": [
    "dff.rename(columns={'Haber Gövdesi': 'haber', 'Sınıf': 'sinif'}, inplace=True)"
   ]
  },
  {
   "cell_type": "code",
   "execution_count": 7,
   "id": "ff885802",
   "metadata": {
    "execution": {
     "iopub.execute_input": "2024-05-15T13:08:03.880237Z",
     "iopub.status.busy": "2024-05-15T13:08:03.879504Z",
     "iopub.status.idle": "2024-05-15T13:08:03.888049Z",
     "shell.execute_reply": "2024-05-15T13:08:03.887227Z"
    },
    "papermill": {
     "duration": 0.025882,
     "end_time": "2024-05-15T13:08:03.890048",
     "exception": false,
     "start_time": "2024-05-15T13:08:03.864166",
     "status": "completed"
    },
    "tags": []
   },
   "outputs": [
    {
     "data": {
      "text/html": [
       "<div>\n",
       "<style scoped>\n",
       "    .dataframe tbody tr th:only-of-type {\n",
       "        vertical-align: middle;\n",
       "    }\n",
       "\n",
       "    .dataframe tbody tr th {\n",
       "        vertical-align: top;\n",
       "    }\n",
       "\n",
       "    .dataframe thead th {\n",
       "        text-align: right;\n",
       "    }\n",
       "</style>\n",
       "<table border=\"1\" class=\"dataframe\">\n",
       "  <thead>\n",
       "    <tr style=\"text-align: right;\">\n",
       "      <th></th>\n",
       "      <th>haber</th>\n",
       "      <th>sinif</th>\n",
       "    </tr>\n",
       "  </thead>\n",
       "  <tbody>\n",
       "    <tr>\n",
       "      <th>0</th>\n",
       "      <td>Para, şöhret, hepsi var! Peki neden boşanıyorl...</td>\n",
       "      <td>Magazin</td>\n",
       "    </tr>\n",
       "    <tr>\n",
       "      <th>1</th>\n",
       "      <td>Sosyetik güzel Eda Taşpınar, önceki gün Taraby...</td>\n",
       "      <td>Magazin</td>\n",
       "    </tr>\n",
       "    <tr>\n",
       "      <th>2</th>\n",
       "      <td>Suudi Arabistan, İsrail ablukası altındaki Gaz...</td>\n",
       "      <td>Siyaset</td>\n",
       "    </tr>\n",
       "    <tr>\n",
       "      <th>3</th>\n",
       "      <td>MHP Lideri Devlet Bahçeli'den \"Selahattin Demi...</td>\n",
       "      <td>Siyaset</td>\n",
       "    </tr>\n",
       "    <tr>\n",
       "      <th>4</th>\n",
       "      <td>Sıla koronavirüse yakalandı, konserleri ertele...</td>\n",
       "      <td>Magazin</td>\n",
       "    </tr>\n",
       "  </tbody>\n",
       "</table>\n",
       "</div>"
      ],
      "text/plain": [
       "                                               haber    sinif\n",
       "0  Para, şöhret, hepsi var! Peki neden boşanıyorl...  Magazin\n",
       "1  Sosyetik güzel Eda Taşpınar, önceki gün Taraby...  Magazin\n",
       "2  Suudi Arabistan, İsrail ablukası altındaki Gaz...  Siyaset\n",
       "3  MHP Lideri Devlet Bahçeli'den \"Selahattin Demi...  Siyaset\n",
       "4  Sıla koronavirüse yakalandı, konserleri ertele...  Magazin"
      ]
     },
     "execution_count": 7,
     "metadata": {},
     "output_type": "execute_result"
    }
   ],
   "source": [
    "dff.head()"
   ]
  },
  {
   "cell_type": "code",
   "execution_count": 8,
   "id": "e12aeca1",
   "metadata": {
    "execution": {
     "iopub.execute_input": "2024-05-15T13:08:03.919945Z",
     "iopub.status.busy": "2024-05-15T13:08:03.919690Z",
     "iopub.status.idle": "2024-05-15T13:08:09.233336Z",
     "shell.execute_reply": "2024-05-15T13:08:09.232433Z"
    },
    "papermill": {
     "duration": 5.33135,
     "end_time": "2024-05-15T13:08:09.235746",
     "exception": false,
     "start_time": "2024-05-15T13:08:03.904396",
     "status": "completed"
    },
    "tags": []
   },
   "outputs": [
    {
     "data": {
      "text/html": [
       "<div>\n",
       "<style scoped>\n",
       "    .dataframe tbody tr th:only-of-type {\n",
       "        vertical-align: middle;\n",
       "    }\n",
       "\n",
       "    .dataframe tbody tr th {\n",
       "        vertical-align: top;\n",
       "    }\n",
       "\n",
       "    .dataframe thead th {\n",
       "        text-align: right;\n",
       "    }\n",
       "</style>\n",
       "<table border=\"1\" class=\"dataframe\">\n",
       "  <thead>\n",
       "    <tr style=\"text-align: right;\">\n",
       "      <th></th>\n",
       "      <th>haber</th>\n",
       "      <th>sinif</th>\n",
       "    </tr>\n",
       "  </thead>\n",
       "  <tbody>\n",
       "    <tr>\n",
       "      <th>count</th>\n",
       "      <td>1486009</td>\n",
       "      <td>1486009</td>\n",
       "    </tr>\n",
       "    <tr>\n",
       "      <th>unique</th>\n",
       "      <td>1486009</td>\n",
       "      <td>9</td>\n",
       "    </tr>\n",
       "    <tr>\n",
       "      <th>top</th>\n",
       "      <td>Siloa Yazıtı'na ilişkin çıkan haberler gerçeği...</td>\n",
       "      <td>Magazin</td>\n",
       "    </tr>\n",
       "    <tr>\n",
       "      <th>freq</th>\n",
       "      <td>1</td>\n",
       "      <td>489951</td>\n",
       "    </tr>\n",
       "  </tbody>\n",
       "</table>\n",
       "</div>"
      ],
      "text/plain": [
       "                                                    haber    sinif\n",
       "count                                             1486009  1486009\n",
       "unique                                            1486009        9\n",
       "top     Siloa Yazıtı'na ilişkin çıkan haberler gerçeği...  Magazin\n",
       "freq                                                    1   489951"
      ]
     },
     "execution_count": 8,
     "metadata": {},
     "output_type": "execute_result"
    }
   ],
   "source": [
    "dff.describe(include='all')"
   ]
  },
  {
   "cell_type": "code",
   "execution_count": 9,
   "id": "7a51b8d7",
   "metadata": {
    "execution": {
     "iopub.execute_input": "2024-05-15T13:08:09.268051Z",
     "iopub.status.busy": "2024-05-15T13:08:09.267762Z",
     "iopub.status.idle": "2024-05-15T13:08:09.755131Z",
     "shell.execute_reply": "2024-05-15T13:08:09.754123Z"
    },
    "papermill": {
     "duration": 0.50582,
     "end_time": "2024-05-15T13:08:09.757243",
     "exception": false,
     "start_time": "2024-05-15T13:08:09.251423",
     "status": "completed"
    },
    "tags": []
   },
   "outputs": [
    {
     "data": {
      "text/plain": [
       "haber\n",
       "False    1486009\n",
       "Name: count, dtype: int64"
      ]
     },
     "execution_count": 9,
     "metadata": {},
     "output_type": "execute_result"
    }
   ],
   "source": [
    "dff.haber.duplicated(keep=\"first\").value_counts()"
   ]
  },
  {
   "cell_type": "code",
   "execution_count": 10,
   "id": "d7380f3d",
   "metadata": {
    "execution": {
     "iopub.execute_input": "2024-05-15T13:08:09.791683Z",
     "iopub.status.busy": "2024-05-15T13:08:09.791247Z",
     "iopub.status.idle": "2024-05-15T13:08:10.246261Z",
     "shell.execute_reply": "2024-05-15T13:08:10.245261Z"
    },
    "papermill": {
     "duration": 0.475034,
     "end_time": "2024-05-15T13:08:10.248618",
     "exception": false,
     "start_time": "2024-05-15T13:08:09.773584",
     "status": "completed"
    },
    "tags": []
   },
   "outputs": [],
   "source": [
    "dff.drop_duplicates(subset=\"haber\",keep=\"first\",inplace=True,ignore_index=True)"
   ]
  },
  {
   "cell_type": "code",
   "execution_count": 11,
   "id": "36417a94",
   "metadata": {
    "execution": {
     "iopub.execute_input": "2024-05-15T13:08:10.280550Z",
     "iopub.status.busy": "2024-05-15T13:08:10.280194Z",
     "iopub.status.idle": "2024-05-15T13:08:12.904655Z",
     "shell.execute_reply": "2024-05-15T13:08:12.903735Z"
    },
    "papermill": {
     "duration": 2.642682,
     "end_time": "2024-05-15T13:08:12.906894",
     "exception": false,
     "start_time": "2024-05-15T13:08:10.264212",
     "status": "completed"
    },
    "tags": []
   },
   "outputs": [
    {
     "data": {
      "text/html": [
       "<div>\n",
       "<style scoped>\n",
       "    .dataframe tbody tr th:only-of-type {\n",
       "        vertical-align: middle;\n",
       "    }\n",
       "\n",
       "    .dataframe tbody tr th {\n",
       "        vertical-align: top;\n",
       "    }\n",
       "\n",
       "    .dataframe thead th {\n",
       "        text-align: right;\n",
       "    }\n",
       "</style>\n",
       "<table border=\"1\" class=\"dataframe\">\n",
       "  <thead>\n",
       "    <tr style=\"text-align: right;\">\n",
       "      <th></th>\n",
       "      <th>haber</th>\n",
       "      <th>sinif</th>\n",
       "    </tr>\n",
       "  </thead>\n",
       "  <tbody>\n",
       "    <tr>\n",
       "      <th>count</th>\n",
       "      <td>1486009</td>\n",
       "      <td>1486009</td>\n",
       "    </tr>\n",
       "    <tr>\n",
       "      <th>unique</th>\n",
       "      <td>1486009</td>\n",
       "      <td>9</td>\n",
       "    </tr>\n",
       "    <tr>\n",
       "      <th>top</th>\n",
       "      <td>Siloa Yazıtı'na ilişkin çıkan haberler gerçeği...</td>\n",
       "      <td>Magazin</td>\n",
       "    </tr>\n",
       "    <tr>\n",
       "      <th>freq</th>\n",
       "      <td>1</td>\n",
       "      <td>489951</td>\n",
       "    </tr>\n",
       "  </tbody>\n",
       "</table>\n",
       "</div>"
      ],
      "text/plain": [
       "                                                    haber    sinif\n",
       "count                                             1486009  1486009\n",
       "unique                                            1486009        9\n",
       "top     Siloa Yazıtı'na ilişkin çıkan haberler gerçeği...  Magazin\n",
       "freq                                                    1   489951"
      ]
     },
     "execution_count": 11,
     "metadata": {},
     "output_type": "execute_result"
    }
   ],
   "source": [
    "dff.describe()"
   ]
  },
  {
   "cell_type": "code",
   "execution_count": 12,
   "id": "1eb4f8d7",
   "metadata": {
    "execution": {
     "iopub.execute_input": "2024-05-15T13:08:12.938751Z",
     "iopub.status.busy": "2024-05-15T13:08:12.938425Z",
     "iopub.status.idle": "2024-05-15T13:08:13.066084Z",
     "shell.execute_reply": "2024-05-15T13:08:13.065190Z"
    },
    "papermill": {
     "duration": 0.145557,
     "end_time": "2024-05-15T13:08:13.067925",
     "exception": false,
     "start_time": "2024-05-15T13:08:12.922368",
     "status": "completed"
    },
    "tags": []
   },
   "outputs": [
    {
     "data": {
      "text/plain": [
       "array(['Magazin', 'Siyaset', 'Sağlık', 'Spor', 'Turizm', 'Kültür-Sanat',\n",
       "       'Finans-Ekonomi', 'Bilim-Teknoloji', 'Çevre'], dtype=object)"
      ]
     },
     "execution_count": 12,
     "metadata": {},
     "output_type": "execute_result"
    }
   ],
   "source": [
    "dff.sinif.unique()"
   ]
  },
  {
   "cell_type": "code",
   "execution_count": 13,
   "id": "f1afe6d6",
   "metadata": {
    "execution": {
     "iopub.execute_input": "2024-05-15T13:08:13.099072Z",
     "iopub.status.busy": "2024-05-15T13:08:13.098810Z",
     "iopub.status.idle": "2024-05-15T13:08:13.329801Z",
     "shell.execute_reply": "2024-05-15T13:08:13.328987Z"
    },
    "papermill": {
     "duration": 0.248858,
     "end_time": "2024-05-15T13:08:13.331846",
     "exception": false,
     "start_time": "2024-05-15T13:08:13.082988",
     "status": "completed"
    },
    "tags": []
   },
   "outputs": [
    {
     "data": {
      "text/plain": [
       "sinif\n",
       "Magazin            489951\n",
       "Siyaset            305452\n",
       "Spor               230427\n",
       "Sağlık             122075\n",
       "Kültür-Sanat       100019\n",
       "Turizm              71182\n",
       "Bilim-Teknoloji     68257\n",
       "Finans-Ekonomi      65414\n",
       "Çevre               33232\n",
       "Name: count, dtype: int64"
      ]
     },
     "execution_count": 13,
     "metadata": {},
     "output_type": "execute_result"
    }
   ],
   "source": [
    "dff[\"sinif\"].value_counts()"
   ]
  },
  {
   "cell_type": "markdown",
   "id": "fc8f5556",
   "metadata": {
    "execution": {
     "iopub.execute_input": "2024-05-15T12:15:32.877080Z",
     "iopub.status.busy": "2024-05-15T12:15:32.876391Z",
     "iopub.status.idle": "2024-05-15T12:15:33.033719Z",
     "shell.execute_reply": "2024-05-15T12:15:33.032898Z",
     "shell.execute_reply.started": "2024-05-15T12:15:32.877038Z"
    },
    "papermill": {
     "duration": 0.014815,
     "end_time": "2024-05-15T13:08:13.362014",
     "exception": false,
     "start_time": "2024-05-15T13:08:13.347199",
     "status": "completed"
    },
    "tags": []
   },
   "source": [
    "news_dict={'Magazin':0,'Siyaset':1,'Sağlık':2,'Spor':3,'Kültür-Sanat':4,'Turizm':5,'Finans-Ekonomi':6,'Bilim-Teknoloji':7,'Çevre':8}\n",
    "dff[\"sinif\"]=dff[\"sinif\"].map(news_dict)"
   ]
  },
  {
   "cell_type": "markdown",
   "id": "af102db2",
   "metadata": {
    "papermill": {
     "duration": 0.014927,
     "end_time": "2024-05-15T13:08:13.391882",
     "exception": false,
     "start_time": "2024-05-15T13:08:13.376955",
     "status": "completed"
    },
    "tags": []
   },
   "source": [
    "# **Analyze Texts**"
   ]
  },
  {
   "cell_type": "code",
   "execution_count": 14,
   "id": "618191c3",
   "metadata": {
    "execution": {
     "iopub.execute_input": "2024-05-15T13:08:13.423203Z",
     "iopub.status.busy": "2024-05-15T13:08:13.422660Z",
     "iopub.status.idle": "2024-05-15T13:08:43.537447Z",
     "shell.execute_reply": "2024-05-15T13:08:43.536663Z"
    },
    "papermill": {
     "duration": 30.132952,
     "end_time": "2024-05-15T13:08:43.539798",
     "exception": false,
     "start_time": "2024-05-15T13:08:13.406846",
     "status": "completed"
    },
    "tags": []
   },
   "outputs": [],
   "source": [
    "dff['words'] = [len(x.split()) for x in dff['haber'].tolist()]"
   ]
  },
  {
   "cell_type": "code",
   "execution_count": 15,
   "id": "46b6549e",
   "metadata": {
    "execution": {
     "iopub.execute_input": "2024-05-15T13:08:43.572353Z",
     "iopub.status.busy": "2024-05-15T13:08:43.572017Z",
     "iopub.status.idle": "2024-05-15T13:08:43.585943Z",
     "shell.execute_reply": "2024-05-15T13:08:43.585022Z"
    },
    "papermill": {
     "duration": 0.032123,
     "end_time": "2024-05-15T13:08:43.587829",
     "exception": false,
     "start_time": "2024-05-15T13:08:43.555706",
     "status": "completed"
    },
    "tags": []
   },
   "outputs": [
    {
     "data": {
      "text/html": [
       "<div>\n",
       "<style scoped>\n",
       "    .dataframe tbody tr th:only-of-type {\n",
       "        vertical-align: middle;\n",
       "    }\n",
       "\n",
       "    .dataframe tbody tr th {\n",
       "        vertical-align: top;\n",
       "    }\n",
       "\n",
       "    .dataframe thead th {\n",
       "        text-align: right;\n",
       "    }\n",
       "</style>\n",
       "<table border=\"1\" class=\"dataframe\">\n",
       "  <thead>\n",
       "    <tr style=\"text-align: right;\">\n",
       "      <th></th>\n",
       "      <th>haber</th>\n",
       "      <th>sinif</th>\n",
       "      <th>words</th>\n",
       "    </tr>\n",
       "  </thead>\n",
       "  <tbody>\n",
       "    <tr>\n",
       "      <th>0</th>\n",
       "      <td>Para, şöhret, hepsi var! Peki neden boşanıyorl...</td>\n",
       "      <td>Magazin</td>\n",
       "      <td>432</td>\n",
       "    </tr>\n",
       "    <tr>\n",
       "      <th>1</th>\n",
       "      <td>Sosyetik güzel Eda Taşpınar, önceki gün Taraby...</td>\n",
       "      <td>Magazin</td>\n",
       "      <td>131</td>\n",
       "    </tr>\n",
       "    <tr>\n",
       "      <th>2</th>\n",
       "      <td>Suudi Arabistan, İsrail ablukası altındaki Gaz...</td>\n",
       "      <td>Siyaset</td>\n",
       "      <td>122</td>\n",
       "    </tr>\n",
       "    <tr>\n",
       "      <th>3</th>\n",
       "      <td>MHP Lideri Devlet Bahçeli'den \"Selahattin Demi...</td>\n",
       "      <td>Siyaset</td>\n",
       "      <td>131</td>\n",
       "    </tr>\n",
       "    <tr>\n",
       "      <th>4</th>\n",
       "      <td>Sıla koronavirüse yakalandı, konserleri ertele...</td>\n",
       "      <td>Magazin</td>\n",
       "      <td>114</td>\n",
       "    </tr>\n",
       "    <tr>\n",
       "      <th>...</th>\n",
       "      <td>...</td>\n",
       "      <td>...</td>\n",
       "      <td>...</td>\n",
       "    </tr>\n",
       "    <tr>\n",
       "      <th>1486004</th>\n",
       "      <td>Oyuncu   Birkan Sokullu Arnavutköy’de görüntül...</td>\n",
       "      <td>Magazin</td>\n",
       "      <td>10</td>\n",
       "    </tr>\n",
       "    <tr>\n",
       "      <th>1486005</th>\n",
       "      <td>Türkiye Cumhuriyet Merkez Bankası’nın 200 baz ...</td>\n",
       "      <td>Siyaset</td>\n",
       "      <td>172</td>\n",
       "    </tr>\n",
       "    <tr>\n",
       "      <th>1486006</th>\n",
       "      <td>Apple bu yılın sonuna doğru üç adet yeni akıll...</td>\n",
       "      <td>Bilim-Teknoloji</td>\n",
       "      <td>661</td>\n",
       "    </tr>\n",
       "    <tr>\n",
       "      <th>1486007</th>\n",
       "      <td>\\n\\n\\n\\n\\nSüper Lig’in 18. haftasında Kasımpa...</td>\n",
       "      <td>Spor</td>\n",
       "      <td>214</td>\n",
       "    </tr>\n",
       "    <tr>\n",
       "      <th>1486008</th>\n",
       "      <td>Siloa Yazıtı'na ilişkin çıkan haberler gerçeği...</td>\n",
       "      <td>Kültür-Sanat</td>\n",
       "      <td>131</td>\n",
       "    </tr>\n",
       "  </tbody>\n",
       "</table>\n",
       "<p>1486009 rows × 3 columns</p>\n",
       "</div>"
      ],
      "text/plain": [
       "                                                     haber            sinif  words\n",
       "0        Para, şöhret, hepsi var! Peki neden boşanıyorl...          Magazin    432\n",
       "1        Sosyetik güzel Eda Taşpınar, önceki gün Taraby...          Magazin    131\n",
       "2        Suudi Arabistan, İsrail ablukası altındaki Gaz...          Siyaset    122\n",
       "3        MHP Lideri Devlet Bahçeli'den \"Selahattin Demi...          Siyaset    131\n",
       "4        Sıla koronavirüse yakalandı, konserleri ertele...          Magazin    114\n",
       "...                                                    ...              ...    ...\n",
       "1486004  Oyuncu   Birkan Sokullu Arnavutköy’de görüntül...          Magazin     10\n",
       "1486005  Türkiye Cumhuriyet Merkez Bankası’nın 200 baz ...          Siyaset    172\n",
       "1486006  Apple bu yılın sonuna doğru üç adet yeni akıll...  Bilim-Teknoloji    661\n",
       "1486007   \\n\\n\\n\\n\\nSüper Lig’in 18. haftasında Kasımpa...             Spor    214\n",
       "1486008  Siloa Yazıtı'na ilişkin çıkan haberler gerçeği...     Kültür-Sanat    131\n",
       "\n",
       "[1486009 rows x 3 columns]"
      ]
     },
     "execution_count": 15,
     "metadata": {},
     "output_type": "execute_result"
    }
   ],
   "source": [
    "dff"
   ]
  },
  {
   "cell_type": "code",
   "execution_count": 16,
   "id": "4a7ab1cc",
   "metadata": {
    "execution": {
     "iopub.execute_input": "2024-05-15T13:08:43.620052Z",
     "iopub.status.busy": "2024-05-15T13:08:43.619731Z",
     "iopub.status.idle": "2024-05-15T13:08:43.679250Z",
     "shell.execute_reply": "2024-05-15T13:08:43.678183Z"
    },
    "papermill": {
     "duration": 0.078011,
     "end_time": "2024-05-15T13:08:43.681340",
     "exception": false,
     "start_time": "2024-05-15T13:08:43.603329",
     "status": "completed"
    },
    "tags": []
   },
   "outputs": [
    {
     "data": {
      "text/plain": [
       "count   1486009.00\n",
       "mean        198.64\n",
       "std         214.68\n",
       "min           0.00\n",
       "25%         103.00\n",
       "50%         137.00\n",
       "75%         214.00\n",
       "max        5450.00\n",
       "Name: words, dtype: float64"
      ]
     },
     "execution_count": 16,
     "metadata": {},
     "output_type": "execute_result"
    }
   ],
   "source": [
    "dff['words'].describe()"
   ]
  },
  {
   "cell_type": "code",
   "execution_count": 17,
   "id": "58c89072",
   "metadata": {
    "execution": {
     "iopub.execute_input": "2024-05-15T13:08:43.715690Z",
     "iopub.status.busy": "2024-05-15T13:08:43.715009Z",
     "iopub.status.idle": "2024-05-15T13:08:43.803596Z",
     "shell.execute_reply": "2024-05-15T13:08:43.802689Z"
    },
    "papermill": {
     "duration": 0.108354,
     "end_time": "2024-05-15T13:08:43.806125",
     "exception": false,
     "start_time": "2024-05-15T13:08:43.697771",
     "status": "completed"
    },
    "tags": []
   },
   "outputs": [],
   "source": [
    "dff = dff[~(dff[\"words\"] == 0)]"
   ]
  },
  {
   "cell_type": "code",
   "execution_count": 18,
   "id": "5913fd96",
   "metadata": {
    "execution": {
     "iopub.execute_input": "2024-05-15T13:08:43.892184Z",
     "iopub.status.busy": "2024-05-15T13:08:43.891254Z",
     "iopub.status.idle": "2024-05-15T13:08:43.941487Z",
     "shell.execute_reply": "2024-05-15T13:08:43.940576Z"
    },
    "papermill": {
     "duration": 0.121052,
     "end_time": "2024-05-15T13:08:43.943744",
     "exception": false,
     "start_time": "2024-05-15T13:08:43.822692",
     "status": "completed"
    },
    "tags": []
   },
   "outputs": [
    {
     "data": {
      "text/plain": [
       "count   1486000.00\n",
       "mean        198.64\n",
       "std         214.68\n",
       "min           1.00\n",
       "25%         103.00\n",
       "50%         137.00\n",
       "75%         214.00\n",
       "max        5450.00\n",
       "Name: words, dtype: float64"
      ]
     },
     "execution_count": 18,
     "metadata": {},
     "output_type": "execute_result"
    }
   ],
   "source": [
    "dff['words'].describe()"
   ]
  },
  {
   "cell_type": "code",
   "execution_count": 19,
   "id": "3f573260",
   "metadata": {
    "execution": {
     "iopub.execute_input": "2024-05-15T13:08:43.979812Z",
     "iopub.status.busy": "2024-05-15T13:08:43.979459Z",
     "iopub.status.idle": "2024-05-15T13:08:44.228775Z",
     "shell.execute_reply": "2024-05-15T13:08:44.227886Z"
    },
    "papermill": {
     "duration": 0.268692,
     "end_time": "2024-05-15T13:08:44.230865",
     "exception": false,
     "start_time": "2024-05-15T13:08:43.962173",
     "status": "completed"
    },
    "tags": []
   },
   "outputs": [
    {
     "data": {
      "text/html": [
       "<div>\n",
       "<style scoped>\n",
       "    .dataframe tbody tr th:only-of-type {\n",
       "        vertical-align: middle;\n",
       "    }\n",
       "\n",
       "    .dataframe tbody tr th {\n",
       "        vertical-align: top;\n",
       "    }\n",
       "\n",
       "    .dataframe thead th {\n",
       "        text-align: right;\n",
       "    }\n",
       "</style>\n",
       "<table border=\"1\" class=\"dataframe\">\n",
       "  <thead>\n",
       "    <tr style=\"text-align: right;\">\n",
       "      <th></th>\n",
       "      <th>count</th>\n",
       "      <th>mean</th>\n",
       "      <th>std</th>\n",
       "      <th>min</th>\n",
       "      <th>25%</th>\n",
       "      <th>50%</th>\n",
       "      <th>75%</th>\n",
       "      <th>max</th>\n",
       "    </tr>\n",
       "    <tr>\n",
       "      <th>sinif</th>\n",
       "      <th></th>\n",
       "      <th></th>\n",
       "      <th></th>\n",
       "      <th></th>\n",
       "      <th></th>\n",
       "      <th></th>\n",
       "      <th></th>\n",
       "      <th></th>\n",
       "    </tr>\n",
       "  </thead>\n",
       "  <tbody>\n",
       "    <tr>\n",
       "      <th>Bilim-Teknoloji</th>\n",
       "      <td>68257.00</td>\n",
       "      <td>361.67</td>\n",
       "      <td>288.13</td>\n",
       "      <td>1.00</td>\n",
       "      <td>197.00</td>\n",
       "      <td>271.00</td>\n",
       "      <td>433.00</td>\n",
       "      <td>5450.00</td>\n",
       "    </tr>\n",
       "    <tr>\n",
       "      <th>Finans-Ekonomi</th>\n",
       "      <td>65414.00</td>\n",
       "      <td>398.57</td>\n",
       "      <td>369.44</td>\n",
       "      <td>1.00</td>\n",
       "      <td>131.00</td>\n",
       "      <td>153.00</td>\n",
       "      <td>635.00</td>\n",
       "      <td>4540.00</td>\n",
       "    </tr>\n",
       "    <tr>\n",
       "      <th>Kültür-Sanat</th>\n",
       "      <td>100019.00</td>\n",
       "      <td>231.33</td>\n",
       "      <td>255.46</td>\n",
       "      <td>1.00</td>\n",
       "      <td>138.00</td>\n",
       "      <td>153.00</td>\n",
       "      <td>210.00</td>\n",
       "      <td>5051.00</td>\n",
       "    </tr>\n",
       "    <tr>\n",
       "      <th>Magazin</th>\n",
       "      <td>489951.00</td>\n",
       "      <td>142.88</td>\n",
       "      <td>156.26</td>\n",
       "      <td>1.00</td>\n",
       "      <td>58.00</td>\n",
       "      <td>103.00</td>\n",
       "      <td>171.00</td>\n",
       "      <td>4587.00</td>\n",
       "    </tr>\n",
       "    <tr>\n",
       "      <th>Sağlık</th>\n",
       "      <td>122075.00</td>\n",
       "      <td>321.19</td>\n",
       "      <td>193.89</td>\n",
       "      <td>1.00</td>\n",
       "      <td>163.00</td>\n",
       "      <td>282.00</td>\n",
       "      <td>421.00</td>\n",
       "      <td>3145.00</td>\n",
       "    </tr>\n",
       "    <tr>\n",
       "      <th>Siyaset</th>\n",
       "      <td>305450.00</td>\n",
       "      <td>140.97</td>\n",
       "      <td>112.04</td>\n",
       "      <td>1.00</td>\n",
       "      <td>125.00</td>\n",
       "      <td>133.00</td>\n",
       "      <td>141.00</td>\n",
       "      <td>4325.00</td>\n",
       "    </tr>\n",
       "    <tr>\n",
       "      <th>Spor</th>\n",
       "      <td>230423.00</td>\n",
       "      <td>229.60</td>\n",
       "      <td>255.64</td>\n",
       "      <td>1.00</td>\n",
       "      <td>114.00</td>\n",
       "      <td>173.00</td>\n",
       "      <td>272.00</td>\n",
       "      <td>4726.00</td>\n",
       "    </tr>\n",
       "    <tr>\n",
       "      <th>Turizm</th>\n",
       "      <td>71179.00</td>\n",
       "      <td>153.28</td>\n",
       "      <td>153.31</td>\n",
       "      <td>1.00</td>\n",
       "      <td>106.00</td>\n",
       "      <td>127.00</td>\n",
       "      <td>138.00</td>\n",
       "      <td>4499.00</td>\n",
       "    </tr>\n",
       "    <tr>\n",
       "      <th>Çevre</th>\n",
       "      <td>33232.00</td>\n",
       "      <td>156.48</td>\n",
       "      <td>165.50</td>\n",
       "      <td>1.00</td>\n",
       "      <td>117.00</td>\n",
       "      <td>130.00</td>\n",
       "      <td>140.00</td>\n",
       "      <td>3709.00</td>\n",
       "    </tr>\n",
       "  </tbody>\n",
       "</table>\n",
       "</div>"
      ],
      "text/plain": [
       "                    count   mean    std  min    25%    50%    75%     max\n",
       "sinif                                                                    \n",
       "Bilim-Teknoloji  68257.00 361.67 288.13 1.00 197.00 271.00 433.00 5450.00\n",
       "Finans-Ekonomi   65414.00 398.57 369.44 1.00 131.00 153.00 635.00 4540.00\n",
       "Kültür-Sanat    100019.00 231.33 255.46 1.00 138.00 153.00 210.00 5051.00\n",
       "Magazin         489951.00 142.88 156.26 1.00  58.00 103.00 171.00 4587.00\n",
       "Sağlık          122075.00 321.19 193.89 1.00 163.00 282.00 421.00 3145.00\n",
       "Siyaset         305450.00 140.97 112.04 1.00 125.00 133.00 141.00 4325.00\n",
       "Spor            230423.00 229.60 255.64 1.00 114.00 173.00 272.00 4726.00\n",
       "Turizm           71179.00 153.28 153.31 1.00 106.00 127.00 138.00 4499.00\n",
       "Çevre            33232.00 156.48 165.50 1.00 117.00 130.00 140.00 3709.00"
      ]
     },
     "execution_count": 19,
     "metadata": {},
     "output_type": "execute_result"
    }
   ],
   "source": [
    "dff.groupby(['sinif'])['words'].describe()"
   ]
  },
  {
   "cell_type": "code",
   "execution_count": 20,
   "id": "2c1af345",
   "metadata": {
    "execution": {
     "iopub.execute_input": "2024-05-15T13:08:44.264269Z",
     "iopub.status.busy": "2024-05-15T13:08:44.263955Z",
     "iopub.status.idle": "2024-05-15T13:08:44.350128Z",
     "shell.execute_reply": "2024-05-15T13:08:44.348803Z"
    },
    "papermill": {
     "duration": 0.10487,
     "end_time": "2024-05-15T13:08:44.352064",
     "exception": false,
     "start_time": "2024-05-15T13:08:44.247194",
     "status": "completed"
    },
    "tags": []
   },
   "outputs": [
    {
     "name": "stdout",
     "output_type": "stream",
     "text": [
      "sinif\n",
      "Magazin            235970\n",
      "Spor                43307\n",
      "Siyaset             31971\n",
      "Turizm              16313\n",
      "Finans-Ekonomi       8518\n",
      "Çevre                7680\n",
      "Kültür-Sanat         6478\n",
      "Sağlık               3475\n",
      "Bilim-Teknoloji      1464\n",
      "Name: count, dtype: int64\n",
      "sinif\n",
      "Finans-Ekonomi     4478\n",
      "Magazin            2608\n",
      "Bilim-Teknoloji    2285\n",
      "Kültür-Sanat       2050\n",
      "Spor               1192\n",
      "Siyaset             960\n",
      "Sağlık              893\n",
      "Turizm              321\n",
      "Çevre               218\n",
      "Name: count, dtype: int64\n"
     ]
    }
   ],
   "source": [
    "min_word_size = 100\n",
    "max_word_size = 1000\n",
    "print(dff[\"sinif\"][dff['words'] < min_word_size].value_counts())\n",
    "print(dff[\"sinif\"][dff['words'] > max_word_size].value_counts())"
   ]
  },
  {
   "cell_type": "code",
   "execution_count": 21,
   "id": "9fa89ca2",
   "metadata": {
    "execution": {
     "iopub.execute_input": "2024-05-15T13:08:44.385748Z",
     "iopub.status.busy": "2024-05-15T13:08:44.385430Z",
     "iopub.status.idle": "2024-05-15T13:08:44.577140Z",
     "shell.execute_reply": "2024-05-15T13:08:44.576361Z"
    },
    "papermill": {
     "duration": 0.211061,
     "end_time": "2024-05-15T13:08:44.579393",
     "exception": false,
     "start_time": "2024-05-15T13:08:44.368332",
     "status": "completed"
    },
    "tags": []
   },
   "outputs": [],
   "source": [
    "dff= dff[dff['words']>=min_word_size]\n",
    "dff= dff[dff['words']<=max_word_size]"
   ]
  },
  {
   "cell_type": "code",
   "execution_count": 22,
   "id": "7290a27e",
   "metadata": {
    "execution": {
     "iopub.execute_input": "2024-05-15T13:08:44.613616Z",
     "iopub.status.busy": "2024-05-15T13:08:44.613293Z",
     "iopub.status.idle": "2024-05-15T13:08:44.784351Z",
     "shell.execute_reply": "2024-05-15T13:08:44.783356Z"
    },
    "papermill": {
     "duration": 0.190474,
     "end_time": "2024-05-15T13:08:44.786669",
     "exception": false,
     "start_time": "2024-05-15T13:08:44.596195",
     "status": "completed"
    },
    "tags": []
   },
   "outputs": [
    {
     "data": {
      "text/html": [
       "<div>\n",
       "<style scoped>\n",
       "    .dataframe tbody tr th:only-of-type {\n",
       "        vertical-align: middle;\n",
       "    }\n",
       "\n",
       "    .dataframe tbody tr th {\n",
       "        vertical-align: top;\n",
       "    }\n",
       "\n",
       "    .dataframe thead th {\n",
       "        text-align: right;\n",
       "    }\n",
       "</style>\n",
       "<table border=\"1\" class=\"dataframe\">\n",
       "  <thead>\n",
       "    <tr style=\"text-align: right;\">\n",
       "      <th></th>\n",
       "      <th>count</th>\n",
       "      <th>mean</th>\n",
       "      <th>std</th>\n",
       "      <th>min</th>\n",
       "      <th>25%</th>\n",
       "      <th>50%</th>\n",
       "      <th>75%</th>\n",
       "      <th>max</th>\n",
       "    </tr>\n",
       "    <tr>\n",
       "      <th>sinif</th>\n",
       "      <th></th>\n",
       "      <th></th>\n",
       "      <th></th>\n",
       "      <th></th>\n",
       "      <th></th>\n",
       "      <th></th>\n",
       "      <th></th>\n",
       "      <th></th>\n",
       "    </tr>\n",
       "  </thead>\n",
       "  <tbody>\n",
       "    <tr>\n",
       "      <th>Bilim-Teknoloji</th>\n",
       "      <td>64508.00</td>\n",
       "      <td>330.56</td>\n",
       "      <td>184.40</td>\n",
       "      <td>100.00</td>\n",
       "      <td>199.00</td>\n",
       "      <td>268.00</td>\n",
       "      <td>413.00</td>\n",
       "      <td>1000.00</td>\n",
       "    </tr>\n",
       "    <tr>\n",
       "      <th>Finans-Ekonomi</th>\n",
       "      <td>52418.00</td>\n",
       "      <td>382.08</td>\n",
       "      <td>274.57</td>\n",
       "      <td>100.00</td>\n",
       "      <td>137.00</td>\n",
       "      <td>170.00</td>\n",
       "      <td>614.00</td>\n",
       "      <td>1000.00</td>\n",
       "    </tr>\n",
       "    <tr>\n",
       "      <th>Kültür-Sanat</th>\n",
       "      <td>91491.00</td>\n",
       "      <td>212.88</td>\n",
       "      <td>141.30</td>\n",
       "      <td>100.00</td>\n",
       "      <td>140.00</td>\n",
       "      <td>155.00</td>\n",
       "      <td>211.00</td>\n",
       "      <td>1000.00</td>\n",
       "    </tr>\n",
       "    <tr>\n",
       "      <th>Magazin</th>\n",
       "      <td>251373.00</td>\n",
       "      <td>210.71</td>\n",
       "      <td>132.56</td>\n",
       "      <td>100.00</td>\n",
       "      <td>127.00</td>\n",
       "      <td>166.00</td>\n",
       "      <td>242.00</td>\n",
       "      <td>1000.00</td>\n",
       "    </tr>\n",
       "    <tr>\n",
       "      <th>Sağlık</th>\n",
       "      <td>117707.00</td>\n",
       "      <td>322.11</td>\n",
       "      <td>173.79</td>\n",
       "      <td>100.00</td>\n",
       "      <td>171.00</td>\n",
       "      <td>287.00</td>\n",
       "      <td>422.00</td>\n",
       "      <td>1000.00</td>\n",
       "    </tr>\n",
       "    <tr>\n",
       "      <th>Siyaset</th>\n",
       "      <td>272519.00</td>\n",
       "      <td>146.20</td>\n",
       "      <td>69.33</td>\n",
       "      <td>100.00</td>\n",
       "      <td>128.00</td>\n",
       "      <td>134.00</td>\n",
       "      <td>143.00</td>\n",
       "      <td>1000.00</td>\n",
       "    </tr>\n",
       "    <tr>\n",
       "      <th>Spor</th>\n",
       "      <td>185924.00</td>\n",
       "      <td>253.23</td>\n",
       "      <td>157.80</td>\n",
       "      <td>100.00</td>\n",
       "      <td>146.00</td>\n",
       "      <td>201.00</td>\n",
       "      <td>300.00</td>\n",
       "      <td>1000.00</td>\n",
       "    </tr>\n",
       "    <tr>\n",
       "      <th>Turizm</th>\n",
       "      <td>54545.00</td>\n",
       "      <td>175.80</td>\n",
       "      <td>122.00</td>\n",
       "      <td>100.00</td>\n",
       "      <td>124.00</td>\n",
       "      <td>131.00</td>\n",
       "      <td>145.00</td>\n",
       "      <td>1000.00</td>\n",
       "    </tr>\n",
       "    <tr>\n",
       "      <th>Çevre</th>\n",
       "      <td>25334.00</td>\n",
       "      <td>183.36</td>\n",
       "      <td>130.78</td>\n",
       "      <td>100.00</td>\n",
       "      <td>128.00</td>\n",
       "      <td>134.00</td>\n",
       "      <td>146.00</td>\n",
       "      <td>992.00</td>\n",
       "    </tr>\n",
       "  </tbody>\n",
       "</table>\n",
       "</div>"
      ],
      "text/plain": [
       "                    count   mean    std    min    25%    50%    75%     max\n",
       "sinif                                                                      \n",
       "Bilim-Teknoloji  64508.00 330.56 184.40 100.00 199.00 268.00 413.00 1000.00\n",
       "Finans-Ekonomi   52418.00 382.08 274.57 100.00 137.00 170.00 614.00 1000.00\n",
       "Kültür-Sanat     91491.00 212.88 141.30 100.00 140.00 155.00 211.00 1000.00\n",
       "Magazin         251373.00 210.71 132.56 100.00 127.00 166.00 242.00 1000.00\n",
       "Sağlık          117707.00 322.11 173.79 100.00 171.00 287.00 422.00 1000.00\n",
       "Siyaset         272519.00 146.20  69.33 100.00 128.00 134.00 143.00 1000.00\n",
       "Spor            185924.00 253.23 157.80 100.00 146.00 201.00 300.00 1000.00\n",
       "Turizm           54545.00 175.80 122.00 100.00 124.00 131.00 145.00 1000.00\n",
       "Çevre            25334.00 183.36 130.78 100.00 128.00 134.00 146.00  992.00"
      ]
     },
     "execution_count": 22,
     "metadata": {},
     "output_type": "execute_result"
    }
   ],
   "source": [
    "dff.groupby(['sinif'])['words'].describe()"
   ]
  },
  {
   "cell_type": "code",
   "execution_count": 23,
   "id": "69e24f23",
   "metadata": {
    "execution": {
     "iopub.execute_input": "2024-05-15T13:08:44.822273Z",
     "iopub.status.busy": "2024-05-15T13:08:44.822004Z",
     "iopub.status.idle": "2024-05-15T13:08:44.995179Z",
     "shell.execute_reply": "2024-05-15T13:08:44.994306Z"
    },
    "papermill": {
     "duration": 0.192349,
     "end_time": "2024-05-15T13:08:44.997041",
     "exception": false,
     "start_time": "2024-05-15T13:08:44.804692",
     "status": "completed"
    },
    "tags": []
   },
   "outputs": [
    {
     "data": {
      "text/plain": [
       "sinif\n",
       "Siyaset            272519\n",
       "Magazin            251373\n",
       "Spor               185924\n",
       "Sağlık             117707\n",
       "Kültür-Sanat        91491\n",
       "Bilim-Teknoloji     64508\n",
       "Turizm              54545\n",
       "Finans-Ekonomi      52418\n",
       "Çevre               25334\n",
       "Name: count, dtype: int64"
      ]
     },
     "execution_count": 23,
     "metadata": {},
     "output_type": "execute_result"
    }
   ],
   "source": [
    "dff[\"sinif\"].value_counts()"
   ]
  },
  {
   "cell_type": "code",
   "execution_count": 24,
   "id": "e5b96f42",
   "metadata": {
    "execution": {
     "iopub.execute_input": "2024-05-15T13:08:45.032046Z",
     "iopub.status.busy": "2024-05-15T13:08:45.031762Z",
     "iopub.status.idle": "2024-05-15T13:08:45.225037Z",
     "shell.execute_reply": "2024-05-15T13:08:45.224155Z"
    },
    "papermill": {
     "duration": 0.212514,
     "end_time": "2024-05-15T13:08:45.227032",
     "exception": false,
     "start_time": "2024-05-15T13:08:45.014518",
     "status": "completed"
    },
    "tags": []
   },
   "outputs": [],
   "source": [
    "df_new= dff[(dff['sinif'] == \"Siyaset\") & (dff['words'] > 150)]"
   ]
  },
  {
   "cell_type": "code",
   "execution_count": 25,
   "id": "917502b8",
   "metadata": {
    "execution": {
     "iopub.execute_input": "2024-05-15T13:08:45.262710Z",
     "iopub.status.busy": "2024-05-15T13:08:45.262359Z",
     "iopub.status.idle": "2024-05-15T13:08:45.396554Z",
     "shell.execute_reply": "2024-05-15T13:08:45.395747Z"
    },
    "papermill": {
     "duration": 0.154537,
     "end_time": "2024-05-15T13:08:45.398793",
     "exception": false,
     "start_time": "2024-05-15T13:08:45.244256",
     "status": "completed"
    },
    "tags": []
   },
   "outputs": [],
   "source": [
    "dff = dff.drop(df_new.index)"
   ]
  },
  {
   "cell_type": "code",
   "execution_count": 26,
   "id": "f0c1204b",
   "metadata": {
    "execution": {
     "iopub.execute_input": "2024-05-15T13:08:45.437950Z",
     "iopub.status.busy": "2024-05-15T13:08:45.437170Z",
     "iopub.status.idle": "2024-05-15T13:08:45.633280Z",
     "shell.execute_reply": "2024-05-15T13:08:45.632463Z"
    },
    "papermill": {
     "duration": 0.216399,
     "end_time": "2024-05-15T13:08:45.635268",
     "exception": false,
     "start_time": "2024-05-15T13:08:45.418869",
     "status": "completed"
    },
    "tags": []
   },
   "outputs": [],
   "source": [
    "df_new = dff[(dff['sinif'] == \"Magazin\") & (dff['words'] > 200)]"
   ]
  },
  {
   "cell_type": "code",
   "execution_count": 27,
   "id": "8b1444f5",
   "metadata": {
    "execution": {
     "iopub.execute_input": "2024-05-15T13:08:45.670239Z",
     "iopub.status.busy": "2024-05-15T13:08:45.669586Z",
     "iopub.status.idle": "2024-05-15T13:08:45.796968Z",
     "shell.execute_reply": "2024-05-15T13:08:45.796190Z"
    },
    "papermill": {
     "duration": 0.146962,
     "end_time": "2024-05-15T13:08:45.799216",
     "exception": false,
     "start_time": "2024-05-15T13:08:45.652254",
     "status": "completed"
    },
    "tags": []
   },
   "outputs": [],
   "source": [
    "dff = dff.drop(df_new.index)"
   ]
  },
  {
   "cell_type": "code",
   "execution_count": 28,
   "id": "2a7b3bc0",
   "metadata": {
    "execution": {
     "iopub.execute_input": "2024-05-15T13:08:45.834385Z",
     "iopub.status.busy": "2024-05-15T13:08:45.834096Z",
     "iopub.status.idle": "2024-05-15T13:08:46.008651Z",
     "shell.execute_reply": "2024-05-15T13:08:46.007770Z"
    },
    "papermill": {
     "duration": 0.194413,
     "end_time": "2024-05-15T13:08:46.011038",
     "exception": false,
     "start_time": "2024-05-15T13:08:45.816625",
     "status": "completed"
    },
    "tags": []
   },
   "outputs": [],
   "source": [
    "df_new = dff[(dff['sinif'] == \"Spor\") & (dff['words'] > 200)]"
   ]
  },
  {
   "cell_type": "code",
   "execution_count": 29,
   "id": "d66d3a66",
   "metadata": {
    "execution": {
     "iopub.execute_input": "2024-05-15T13:08:46.047259Z",
     "iopub.status.busy": "2024-05-15T13:08:46.046901Z",
     "iopub.status.idle": "2024-05-15T13:08:46.172418Z",
     "shell.execute_reply": "2024-05-15T13:08:46.171492Z"
    },
    "papermill": {
     "duration": 0.146123,
     "end_time": "2024-05-15T13:08:46.174784",
     "exception": false,
     "start_time": "2024-05-15T13:08:46.028661",
     "status": "completed"
    },
    "tags": []
   },
   "outputs": [],
   "source": [
    "dff = dff.drop(df_new.index)"
   ]
  },
  {
   "cell_type": "code",
   "execution_count": 30,
   "id": "ddae1055",
   "metadata": {
    "execution": {
     "iopub.execute_input": "2024-05-15T13:08:46.211308Z",
     "iopub.status.busy": "2024-05-15T13:08:46.210944Z",
     "iopub.status.idle": "2024-05-15T13:08:46.370100Z",
     "shell.execute_reply": "2024-05-15T13:08:46.369313Z"
    },
    "papermill": {
     "duration": 0.180451,
     "end_time": "2024-05-15T13:08:46.372264",
     "exception": false,
     "start_time": "2024-05-15T13:08:46.191813",
     "status": "completed"
    },
    "tags": []
   },
   "outputs": [],
   "source": [
    "df_new = dff[(dff['sinif'] == \"Sağlık\") & (dff['words'] > 300)]"
   ]
  },
  {
   "cell_type": "code",
   "execution_count": 31,
   "id": "f4cd79b7",
   "metadata": {
    "execution": {
     "iopub.execute_input": "2024-05-15T13:08:46.408213Z",
     "iopub.status.busy": "2024-05-15T13:08:46.407341Z",
     "iopub.status.idle": "2024-05-15T13:08:46.519331Z",
     "shell.execute_reply": "2024-05-15T13:08:46.518558Z"
    },
    "papermill": {
     "duration": 0.132068,
     "end_time": "2024-05-15T13:08:46.521565",
     "exception": false,
     "start_time": "2024-05-15T13:08:46.389497",
     "status": "completed"
    },
    "tags": []
   },
   "outputs": [],
   "source": [
    "dff = dff.drop(df_new.index)"
   ]
  },
  {
   "cell_type": "code",
   "execution_count": 32,
   "id": "ce64c2b9",
   "metadata": {
    "execution": {
     "iopub.execute_input": "2024-05-15T13:08:46.557224Z",
     "iopub.status.busy": "2024-05-15T13:08:46.556905Z",
     "iopub.status.idle": "2024-05-15T13:08:46.693945Z",
     "shell.execute_reply": "2024-05-15T13:08:46.693236Z"
    },
    "papermill": {
     "duration": 0.156927,
     "end_time": "2024-05-15T13:08:46.695894",
     "exception": false,
     "start_time": "2024-05-15T13:08:46.538967",
     "status": "completed"
    },
    "tags": []
   },
   "outputs": [],
   "source": [
    "df_new=dff[(dff['sinif'] == \"Bilim-Teknoloji\") & (dff['words'] < 170)]"
   ]
  },
  {
   "cell_type": "code",
   "execution_count": 33,
   "id": "2fb3891d",
   "metadata": {
    "execution": {
     "iopub.execute_input": "2024-05-15T13:08:46.730745Z",
     "iopub.status.busy": "2024-05-15T13:08:46.729949Z",
     "iopub.status.idle": "2024-05-15T13:08:46.837275Z",
     "shell.execute_reply": "2024-05-15T13:08:46.836283Z"
    },
    "papermill": {
     "duration": 0.126984,
     "end_time": "2024-05-15T13:08:46.839662",
     "exception": false,
     "start_time": "2024-05-15T13:08:46.712678",
     "status": "completed"
    },
    "tags": []
   },
   "outputs": [],
   "source": [
    "dff = dff.drop(df_new.index)"
   ]
  },
  {
   "cell_type": "code",
   "execution_count": 34,
   "id": "cac60376",
   "metadata": {
    "execution": {
     "iopub.execute_input": "2024-05-15T13:08:46.875082Z",
     "iopub.status.busy": "2024-05-15T13:08:46.874377Z",
     "iopub.status.idle": "2024-05-15T13:08:47.012686Z",
     "shell.execute_reply": "2024-05-15T13:08:47.011725Z"
    },
    "papermill": {
     "duration": 0.157776,
     "end_time": "2024-05-15T13:08:47.014851",
     "exception": false,
     "start_time": "2024-05-15T13:08:46.857075",
     "status": "completed"
    },
    "tags": []
   },
   "outputs": [],
   "source": [
    "df_new = dff[(dff['sinif'] == \"Kültür-Sanat\") & ((dff['words'] < 120) | (dff['words'] > 220))]"
   ]
  },
  {
   "cell_type": "code",
   "execution_count": 35,
   "id": "8b3e41c3",
   "metadata": {
    "execution": {
     "iopub.execute_input": "2024-05-15T13:08:47.049490Z",
     "iopub.status.busy": "2024-05-15T13:08:47.049220Z",
     "iopub.status.idle": "2024-05-15T13:08:47.160303Z",
     "shell.execute_reply": "2024-05-15T13:08:47.159517Z"
    },
    "papermill": {
     "duration": 0.130598,
     "end_time": "2024-05-15T13:08:47.162536",
     "exception": false,
     "start_time": "2024-05-15T13:08:47.031938",
     "status": "completed"
    },
    "tags": []
   },
   "outputs": [],
   "source": [
    "dff = dff.drop(df_new.index)"
   ]
  },
  {
   "cell_type": "code",
   "execution_count": 36,
   "id": "22e025cd",
   "metadata": {
    "execution": {
     "iopub.execute_input": "2024-05-15T13:08:47.197511Z",
     "iopub.status.busy": "2024-05-15T13:08:47.197202Z",
     "iopub.status.idle": "2024-05-15T13:08:47.328750Z",
     "shell.execute_reply": "2024-05-15T13:08:47.327726Z"
    },
    "papermill": {
     "duration": 0.151081,
     "end_time": "2024-05-15T13:08:47.330785",
     "exception": false,
     "start_time": "2024-05-15T13:08:47.179704",
     "status": "completed"
    },
    "tags": []
   },
   "outputs": [
    {
     "data": {
      "text/plain": [
       "sinif\n",
       "Siyaset            235590\n",
       "Magazin            161063\n",
       "Spor                92600\n",
       "Kültür-Sanat        66906\n",
       "Sağlık              62193\n",
       "Bilim-Teknoloji     55351\n",
       "Turizm              54545\n",
       "Finans-Ekonomi      52418\n",
       "Çevre               25334\n",
       "Name: count, dtype: int64"
      ]
     },
     "execution_count": 36,
     "metadata": {},
     "output_type": "execute_result"
    }
   ],
   "source": [
    "dff[\"sinif\"].value_counts()"
   ]
  },
  {
   "cell_type": "code",
   "execution_count": 37,
   "id": "82071a90",
   "metadata": {
    "execution": {
     "iopub.execute_input": "2024-05-15T13:08:47.367200Z",
     "iopub.status.busy": "2024-05-15T13:08:47.366841Z",
     "iopub.status.idle": "2024-05-15T13:08:47.506335Z",
     "shell.execute_reply": "2024-05-15T13:08:47.505362Z"
    },
    "papermill": {
     "duration": 0.160185,
     "end_time": "2024-05-15T13:08:47.508551",
     "exception": false,
     "start_time": "2024-05-15T13:08:47.348366",
     "status": "completed"
    },
    "tags": []
   },
   "outputs": [
    {
     "data": {
      "text/html": [
       "<div>\n",
       "<style scoped>\n",
       "    .dataframe tbody tr th:only-of-type {\n",
       "        vertical-align: middle;\n",
       "    }\n",
       "\n",
       "    .dataframe tbody tr th {\n",
       "        vertical-align: top;\n",
       "    }\n",
       "\n",
       "    .dataframe thead th {\n",
       "        text-align: right;\n",
       "    }\n",
       "</style>\n",
       "<table border=\"1\" class=\"dataframe\">\n",
       "  <thead>\n",
       "    <tr style=\"text-align: right;\">\n",
       "      <th></th>\n",
       "      <th>count</th>\n",
       "      <th>mean</th>\n",
       "      <th>std</th>\n",
       "      <th>min</th>\n",
       "      <th>25%</th>\n",
       "      <th>50%</th>\n",
       "      <th>75%</th>\n",
       "      <th>max</th>\n",
       "    </tr>\n",
       "    <tr>\n",
       "      <th>sinif</th>\n",
       "      <th></th>\n",
       "      <th></th>\n",
       "      <th></th>\n",
       "      <th></th>\n",
       "      <th></th>\n",
       "      <th></th>\n",
       "      <th></th>\n",
       "      <th></th>\n",
       "    </tr>\n",
       "  </thead>\n",
       "  <tbody>\n",
       "    <tr>\n",
       "      <th>Bilim-Teknoloji</th>\n",
       "      <td>55351.00</td>\n",
       "      <td>361.50</td>\n",
       "      <td>181.21</td>\n",
       "      <td>170.00</td>\n",
       "      <td>225.00</td>\n",
       "      <td>296.00</td>\n",
       "      <td>449.00</td>\n",
       "      <td>1000.00</td>\n",
       "    </tr>\n",
       "    <tr>\n",
       "      <th>Finans-Ekonomi</th>\n",
       "      <td>52418.00</td>\n",
       "      <td>382.08</td>\n",
       "      <td>274.57</td>\n",
       "      <td>100.00</td>\n",
       "      <td>137.00</td>\n",
       "      <td>170.00</td>\n",
       "      <td>614.00</td>\n",
       "      <td>1000.00</td>\n",
       "    </tr>\n",
       "    <tr>\n",
       "      <th>Kültür-Sanat</th>\n",
       "      <td>66906.00</td>\n",
       "      <td>154.74</td>\n",
       "      <td>22.66</td>\n",
       "      <td>120.00</td>\n",
       "      <td>138.00</td>\n",
       "      <td>148.00</td>\n",
       "      <td>166.00</td>\n",
       "      <td>220.00</td>\n",
       "    </tr>\n",
       "    <tr>\n",
       "      <th>Magazin</th>\n",
       "      <td>161063.00</td>\n",
       "      <td>140.34</td>\n",
       "      <td>28.09</td>\n",
       "      <td>100.00</td>\n",
       "      <td>116.00</td>\n",
       "      <td>136.00</td>\n",
       "      <td>162.00</td>\n",
       "      <td>200.00</td>\n",
       "    </tr>\n",
       "    <tr>\n",
       "      <th>Sağlık</th>\n",
       "      <td>62193.00</td>\n",
       "      <td>191.26</td>\n",
       "      <td>55.06</td>\n",
       "      <td>100.00</td>\n",
       "      <td>143.00</td>\n",
       "      <td>178.00</td>\n",
       "      <td>239.00</td>\n",
       "      <td>300.00</td>\n",
       "    </tr>\n",
       "    <tr>\n",
       "      <th>Siyaset</th>\n",
       "      <td>235590.00</td>\n",
       "      <td>132.34</td>\n",
       "      <td>8.92</td>\n",
       "      <td>100.00</td>\n",
       "      <td>127.00</td>\n",
       "      <td>132.00</td>\n",
       "      <td>139.00</td>\n",
       "      <td>150.00</td>\n",
       "    </tr>\n",
       "    <tr>\n",
       "      <th>Spor</th>\n",
       "      <td>92600.00</td>\n",
       "      <td>146.95</td>\n",
       "      <td>28.17</td>\n",
       "      <td>100.00</td>\n",
       "      <td>123.00</td>\n",
       "      <td>146.00</td>\n",
       "      <td>170.00</td>\n",
       "      <td>200.00</td>\n",
       "    </tr>\n",
       "    <tr>\n",
       "      <th>Turizm</th>\n",
       "      <td>54545.00</td>\n",
       "      <td>175.80</td>\n",
       "      <td>122.00</td>\n",
       "      <td>100.00</td>\n",
       "      <td>124.00</td>\n",
       "      <td>131.00</td>\n",
       "      <td>145.00</td>\n",
       "      <td>1000.00</td>\n",
       "    </tr>\n",
       "    <tr>\n",
       "      <th>Çevre</th>\n",
       "      <td>25334.00</td>\n",
       "      <td>183.36</td>\n",
       "      <td>130.78</td>\n",
       "      <td>100.00</td>\n",
       "      <td>128.00</td>\n",
       "      <td>134.00</td>\n",
       "      <td>146.00</td>\n",
       "      <td>992.00</td>\n",
       "    </tr>\n",
       "  </tbody>\n",
       "</table>\n",
       "</div>"
      ],
      "text/plain": [
       "                    count   mean    std    min    25%    50%    75%     max\n",
       "sinif                                                                      \n",
       "Bilim-Teknoloji  55351.00 361.50 181.21 170.00 225.00 296.00 449.00 1000.00\n",
       "Finans-Ekonomi   52418.00 382.08 274.57 100.00 137.00 170.00 614.00 1000.00\n",
       "Kültür-Sanat     66906.00 154.74  22.66 120.00 138.00 148.00 166.00  220.00\n",
       "Magazin         161063.00 140.34  28.09 100.00 116.00 136.00 162.00  200.00\n",
       "Sağlık           62193.00 191.26  55.06 100.00 143.00 178.00 239.00  300.00\n",
       "Siyaset         235590.00 132.34   8.92 100.00 127.00 132.00 139.00  150.00\n",
       "Spor             92600.00 146.95  28.17 100.00 123.00 146.00 170.00  200.00\n",
       "Turizm           54545.00 175.80 122.00 100.00 124.00 131.00 145.00 1000.00\n",
       "Çevre            25334.00 183.36 130.78 100.00 128.00 134.00 146.00  992.00"
      ]
     },
     "execution_count": 37,
     "metadata": {},
     "output_type": "execute_result"
    }
   ],
   "source": [
    "dff.groupby(['sinif'])['words'].describe()"
   ]
  },
  {
   "cell_type": "code",
   "execution_count": 38,
   "id": "96d14dd6",
   "metadata": {
    "execution": {
     "iopub.execute_input": "2024-05-15T13:08:47.545645Z",
     "iopub.status.busy": "2024-05-15T13:08:47.545266Z",
     "iopub.status.idle": "2024-05-15T13:08:50.717031Z",
     "shell.execute_reply": "2024-05-15T13:08:50.715913Z"
    },
    "papermill": {
     "duration": 3.192927,
     "end_time": "2024-05-15T13:08:50.719468",
     "exception": false,
     "start_time": "2024-05-15T13:08:47.526541",
     "status": "completed"
    },
    "tags": []
   },
   "outputs": [
    {
     "name": "stdout",
     "output_type": "stream",
     "text": [
      "\n",
      "Alt Örnekleme Sonrası Sınıf Dağılımları:\n",
      "sinif\n",
      "Sağlık             50668\n",
      "Kültür-Sanat       50668\n",
      "Siyaset            25334\n",
      "Spor               25334\n",
      "Magazin            25334\n",
      "Bilim-Teknoloji    25334\n",
      "Turizm             25334\n",
      "Finans-Ekonomi     25334\n",
      "Çevre              25334\n",
      "Name: count, dtype: int64\n"
     ]
    }
   ],
   "source": [
    "target_classes = ['Siyaset', 'Magazin', 'Spor','Kültür-Sanat','Sağlık','Bilim-Teknoloji','Turizm','Finans-Ekonomi','Çevre']\n",
    "target_df = dff[dff['sinif'].isin(target_classes)]\n",
    "\n",
    "# Her bir hedef sınıf için alt örnekleme işlemini gerçekleştirelim\n",
    "undersampled_df = pd.concat([\n",
    "    target_df[target_df['sinif'] == 'Siyaset'].sample(n=target_df['sinif'].value_counts().min(), replace=False),\n",
    "    target_df[target_df['sinif'] == 'Magazin'].sample(n=target_df['sinif'].value_counts().min(), replace=False),\n",
    "    target_df[target_df['sinif'] == 'Spor'].sample(n=target_df['sinif'].value_counts().min(), replace=False),\n",
    "    target_df[target_df['sinif'] == 'Kültür-Sanat'].sample(n=target_df['sinif'].value_counts().min(), replace=False),\n",
    "    target_df[target_df['sinif'] == 'Sağlık'].sample(n=target_df['sinif'].value_counts().min(), replace=False),\n",
    "    target_df[target_df['sinif'] == 'Kültür-Sanat'].sample(n=target_df['sinif'].value_counts().min(), replace=False),\n",
    "    target_df[target_df['sinif'] == 'Sağlık'].sample(n=target_df['sinif'].value_counts().min(), replace=False),\n",
    "    target_df[target_df['sinif'] == 'Bilim-Teknoloji'].sample(n=target_df['sinif'].value_counts().min(), replace=False),\n",
    "    target_df[target_df['sinif'] == 'Turizm'].sample(n=target_df['sinif'].value_counts().min(), replace=False),\n",
    "    target_df[target_df['sinif'] == 'Finans-Ekonomi'].sample(n=target_df['sinif'].value_counts().min(), replace=False),\n",
    "    target_df[target_df['sinif'] == 'Çevre'].sample(n=target_df['sinif'].value_counts().min(), replace=False),\n",
    "    dff[~dff['sinif'].isin(target_classes)]  # Diğer sınıfları olduğu gibi alalım\n",
    "])\n",
    "\n",
    "print(\"\\nAlt Örnekleme Sonrası Sınıf Dağılımları:\")\n",
    "print(undersampled_df['sinif'].value_counts())"
   ]
  },
  {
   "cell_type": "code",
   "execution_count": 39,
   "id": "92b8441a",
   "metadata": {
    "execution": {
     "iopub.execute_input": "2024-05-15T13:08:50.760410Z",
     "iopub.status.busy": "2024-05-15T13:08:50.760041Z",
     "iopub.status.idle": "2024-05-15T13:08:50.827851Z",
     "shell.execute_reply": "2024-05-15T13:08:50.826849Z"
    },
    "papermill": {
     "duration": 0.090196,
     "end_time": "2024-05-15T13:08:50.830231",
     "exception": false,
     "start_time": "2024-05-15T13:08:50.740035",
     "status": "completed"
    },
    "tags": []
   },
   "outputs": [
    {
     "data": {
      "text/html": [
       "<div>\n",
       "<style scoped>\n",
       "    .dataframe tbody tr th:only-of-type {\n",
       "        vertical-align: middle;\n",
       "    }\n",
       "\n",
       "    .dataframe tbody tr th {\n",
       "        vertical-align: top;\n",
       "    }\n",
       "\n",
       "    .dataframe thead th {\n",
       "        text-align: right;\n",
       "    }\n",
       "</style>\n",
       "<table border=\"1\" class=\"dataframe\">\n",
       "  <thead>\n",
       "    <tr style=\"text-align: right;\">\n",
       "      <th></th>\n",
       "      <th>count</th>\n",
       "      <th>mean</th>\n",
       "      <th>std</th>\n",
       "      <th>min</th>\n",
       "      <th>25%</th>\n",
       "      <th>50%</th>\n",
       "      <th>75%</th>\n",
       "      <th>max</th>\n",
       "    </tr>\n",
       "    <tr>\n",
       "      <th>sinif</th>\n",
       "      <th></th>\n",
       "      <th></th>\n",
       "      <th></th>\n",
       "      <th></th>\n",
       "      <th></th>\n",
       "      <th></th>\n",
       "      <th></th>\n",
       "      <th></th>\n",
       "    </tr>\n",
       "  </thead>\n",
       "  <tbody>\n",
       "    <tr>\n",
       "      <th>Bilim-Teknoloji</th>\n",
       "      <td>25334.00</td>\n",
       "      <td>361.29</td>\n",
       "      <td>180.99</td>\n",
       "      <td>170.00</td>\n",
       "      <td>225.00</td>\n",
       "      <td>297.00</td>\n",
       "      <td>449.00</td>\n",
       "      <td>999.00</td>\n",
       "    </tr>\n",
       "    <tr>\n",
       "      <th>Finans-Ekonomi</th>\n",
       "      <td>25334.00</td>\n",
       "      <td>381.04</td>\n",
       "      <td>274.24</td>\n",
       "      <td>100.00</td>\n",
       "      <td>137.00</td>\n",
       "      <td>167.00</td>\n",
       "      <td>613.75</td>\n",
       "      <td>1000.00</td>\n",
       "    </tr>\n",
       "    <tr>\n",
       "      <th>Kültür-Sanat</th>\n",
       "      <td>50668.00</td>\n",
       "      <td>154.78</td>\n",
       "      <td>22.71</td>\n",
       "      <td>120.00</td>\n",
       "      <td>139.00</td>\n",
       "      <td>148.00</td>\n",
       "      <td>166.00</td>\n",
       "      <td>220.00</td>\n",
       "    </tr>\n",
       "    <tr>\n",
       "      <th>Magazin</th>\n",
       "      <td>25334.00</td>\n",
       "      <td>140.58</td>\n",
       "      <td>28.24</td>\n",
       "      <td>100.00</td>\n",
       "      <td>116.00</td>\n",
       "      <td>136.00</td>\n",
       "      <td>162.00</td>\n",
       "      <td>200.00</td>\n",
       "    </tr>\n",
       "    <tr>\n",
       "      <th>Sağlık</th>\n",
       "      <td>50668.00</td>\n",
       "      <td>191.00</td>\n",
       "      <td>55.11</td>\n",
       "      <td>100.00</td>\n",
       "      <td>143.00</td>\n",
       "      <td>177.00</td>\n",
       "      <td>239.00</td>\n",
       "      <td>300.00</td>\n",
       "    </tr>\n",
       "    <tr>\n",
       "      <th>Siyaset</th>\n",
       "      <td>25334.00</td>\n",
       "      <td>132.39</td>\n",
       "      <td>8.87</td>\n",
       "      <td>100.00</td>\n",
       "      <td>127.00</td>\n",
       "      <td>133.00</td>\n",
       "      <td>139.00</td>\n",
       "      <td>150.00</td>\n",
       "    </tr>\n",
       "    <tr>\n",
       "      <th>Spor</th>\n",
       "      <td>25334.00</td>\n",
       "      <td>147.17</td>\n",
       "      <td>28.20</td>\n",
       "      <td>100.00</td>\n",
       "      <td>123.00</td>\n",
       "      <td>146.00</td>\n",
       "      <td>170.00</td>\n",
       "      <td>200.00</td>\n",
       "    </tr>\n",
       "    <tr>\n",
       "      <th>Turizm</th>\n",
       "      <td>25334.00</td>\n",
       "      <td>176.66</td>\n",
       "      <td>123.16</td>\n",
       "      <td>100.00</td>\n",
       "      <td>124.00</td>\n",
       "      <td>131.00</td>\n",
       "      <td>146.00</td>\n",
       "      <td>1000.00</td>\n",
       "    </tr>\n",
       "    <tr>\n",
       "      <th>Çevre</th>\n",
       "      <td>25334.00</td>\n",
       "      <td>183.36</td>\n",
       "      <td>130.78</td>\n",
       "      <td>100.00</td>\n",
       "      <td>128.00</td>\n",
       "      <td>134.00</td>\n",
       "      <td>146.00</td>\n",
       "      <td>992.00</td>\n",
       "    </tr>\n",
       "  </tbody>\n",
       "</table>\n",
       "</div>"
      ],
      "text/plain": [
       "                   count   mean    std    min    25%    50%    75%     max\n",
       "sinif                                                                     \n",
       "Bilim-Teknoloji 25334.00 361.29 180.99 170.00 225.00 297.00 449.00  999.00\n",
       "Finans-Ekonomi  25334.00 381.04 274.24 100.00 137.00 167.00 613.75 1000.00\n",
       "Kültür-Sanat    50668.00 154.78  22.71 120.00 139.00 148.00 166.00  220.00\n",
       "Magazin         25334.00 140.58  28.24 100.00 116.00 136.00 162.00  200.00\n",
       "Sağlık          50668.00 191.00  55.11 100.00 143.00 177.00 239.00  300.00\n",
       "Siyaset         25334.00 132.39   8.87 100.00 127.00 133.00 139.00  150.00\n",
       "Spor            25334.00 147.17  28.20 100.00 123.00 146.00 170.00  200.00\n",
       "Turizm          25334.00 176.66 123.16 100.00 124.00 131.00 146.00 1000.00\n",
       "Çevre           25334.00 183.36 130.78 100.00 128.00 134.00 146.00  992.00"
      ]
     },
     "execution_count": 39,
     "metadata": {},
     "output_type": "execute_result"
    }
   ],
   "source": [
    "undersampled_df.groupby(['sinif'])['words'].describe()"
   ]
  },
  {
   "cell_type": "code",
   "execution_count": 40,
   "id": "e312cba5",
   "metadata": {
    "execution": {
     "iopub.execute_input": "2024-05-15T13:08:50.872117Z",
     "iopub.status.busy": "2024-05-15T13:08:50.871253Z",
     "iopub.status.idle": "2024-05-15T13:08:50.884648Z",
     "shell.execute_reply": "2024-05-15T13:08:50.883548Z"
    },
    "papermill": {
     "duration": 0.035604,
     "end_time": "2024-05-15T13:08:50.886745",
     "exception": false,
     "start_time": "2024-05-15T13:08:50.851141",
     "status": "completed"
    },
    "tags": []
   },
   "outputs": [
    {
     "data": {
      "text/html": [
       "<div>\n",
       "<style scoped>\n",
       "    .dataframe tbody tr th:only-of-type {\n",
       "        vertical-align: middle;\n",
       "    }\n",
       "\n",
       "    .dataframe tbody tr th {\n",
       "        vertical-align: top;\n",
       "    }\n",
       "\n",
       "    .dataframe thead th {\n",
       "        text-align: right;\n",
       "    }\n",
       "</style>\n",
       "<table border=\"1\" class=\"dataframe\">\n",
       "  <thead>\n",
       "    <tr style=\"text-align: right;\">\n",
       "      <th></th>\n",
       "      <th>haber</th>\n",
       "      <th>sinif</th>\n",
       "      <th>words</th>\n",
       "    </tr>\n",
       "  </thead>\n",
       "  <tbody>\n",
       "    <tr>\n",
       "      <th>1180862</th>\n",
       "      <td>ü alana yasak gelmesini engellemek için haberi...</td>\n",
       "      <td>Siyaset</td>\n",
       "      <td>130</td>\n",
       "    </tr>\n",
       "    <tr>\n",
       "      <th>428660</th>\n",
       "      <td>HDP'li başkan 'örgüt propagandası' suçundan tu...</td>\n",
       "      <td>Siyaset</td>\n",
       "      <td>127</td>\n",
       "    </tr>\n",
       "    <tr>\n",
       "      <th>733804</th>\n",
       "      <td>a bahanesiyle organize edildiğini söyledi. Put...</td>\n",
       "      <td>Siyaset</td>\n",
       "      <td>139</td>\n",
       "    </tr>\n",
       "    <tr>\n",
       "      <th>189347</th>\n",
       "      <td>Gençlik ve Spor Bakanı Mehmet Muharrem Kasapoğ...</td>\n",
       "      <td>Siyaset</td>\n",
       "      <td>124</td>\n",
       "    </tr>\n",
       "    <tr>\n",
       "      <th>794541</th>\n",
       "      <td>CHP'li isimden çarpıcı açıklama! 'Süreç o nokt...</td>\n",
       "      <td>Siyaset</td>\n",
       "      <td>144</td>\n",
       "    </tr>\n",
       "    <tr>\n",
       "      <th>...</th>\n",
       "      <td>...</td>\n",
       "      <td>...</td>\n",
       "      <td>...</td>\n",
       "    </tr>\n",
       "    <tr>\n",
       "      <th>1374944</th>\n",
       "      <td>eler ile tarımda ciddi bir olumsuz dönüşüm yaş...</td>\n",
       "      <td>Çevre</td>\n",
       "      <td>126</td>\n",
       "    </tr>\n",
       "    <tr>\n",
       "      <th>195731</th>\n",
       "      <td>r Türkiye’den Ekoloji Kolektifi üyesi Cem Günd...</td>\n",
       "      <td>Çevre</td>\n",
       "      <td>136</td>\n",
       "    </tr>\n",
       "    <tr>\n",
       "      <th>495355</th>\n",
       "      <td>ültesi Öğretim Üyesi Prof. Dr. Sıddık Cindoruk...</td>\n",
       "      <td>Çevre</td>\n",
       "      <td>132</td>\n",
       "    </tr>\n",
       "    <tr>\n",
       "      <th>1218658</th>\n",
       "      <td>lık Bakanı’nın kurucusu olduğu Medipol Ünivers...</td>\n",
       "      <td>Çevre</td>\n",
       "      <td>126</td>\n",
       "    </tr>\n",
       "    <tr>\n",
       "      <th>417541</th>\n",
       "      <td>k büyük tsunamiler beklenmiyor. Bir normal fay...</td>\n",
       "      <td>Çevre</td>\n",
       "      <td>140</td>\n",
       "    </tr>\n",
       "  </tbody>\n",
       "</table>\n",
       "<p>278674 rows × 3 columns</p>\n",
       "</div>"
      ],
      "text/plain": [
       "                                                     haber    sinif  words\n",
       "1180862  ü alana yasak gelmesini engellemek için haberi...  Siyaset    130\n",
       "428660   HDP'li başkan 'örgüt propagandası' suçundan tu...  Siyaset    127\n",
       "733804   a bahanesiyle organize edildiğini söyledi. Put...  Siyaset    139\n",
       "189347   Gençlik ve Spor Bakanı Mehmet Muharrem Kasapoğ...  Siyaset    124\n",
       "794541   CHP'li isimden çarpıcı açıklama! 'Süreç o nokt...  Siyaset    144\n",
       "...                                                    ...      ...    ...\n",
       "1374944  eler ile tarımda ciddi bir olumsuz dönüşüm yaş...    Çevre    126\n",
       "195731   r Türkiye’den Ekoloji Kolektifi üyesi Cem Günd...    Çevre    136\n",
       "495355   ültesi Öğretim Üyesi Prof. Dr. Sıddık Cindoruk...    Çevre    132\n",
       "1218658  lık Bakanı’nın kurucusu olduğu Medipol Ünivers...    Çevre    126\n",
       "417541   k büyük tsunamiler beklenmiyor. Bir normal fay...    Çevre    140\n",
       "\n",
       "[278674 rows x 3 columns]"
      ]
     },
     "execution_count": 40,
     "metadata": {},
     "output_type": "execute_result"
    }
   ],
   "source": [
    "undersampled_df"
   ]
  },
  {
   "cell_type": "code",
   "execution_count": 41,
   "id": "e8ca391f",
   "metadata": {
    "execution": {
     "iopub.execute_input": "2024-05-15T13:08:50.925739Z",
     "iopub.status.busy": "2024-05-15T13:08:50.925269Z",
     "iopub.status.idle": "2024-05-15T13:08:50.930682Z",
     "shell.execute_reply": "2024-05-15T13:08:50.929766Z"
    },
    "papermill": {
     "duration": 0.027933,
     "end_time": "2024-05-15T13:08:50.932967",
     "exception": false,
     "start_time": "2024-05-15T13:08:50.905034",
     "status": "completed"
    },
    "tags": []
   },
   "outputs": [],
   "source": [
    "def clean_text(text):\n",
    "    unwanted_pattern = r'[!.\\n,\\'“”?@#x*-+/%&\"\\'-:;]'\n",
    "    regex = re.compile(unwanted_pattern)\n",
    "    cleaned_text = regex.sub(\" \", text)\n",
    "    cleaned_text = re.sub(r'\\d+', '', cleaned_text)  \n",
    "    cleaned_text = cleaned_text.lower()  \n",
    "    return cleaned_text"
   ]
  },
  {
   "cell_type": "code",
   "execution_count": 42,
   "id": "3290e8d3",
   "metadata": {
    "execution": {
     "iopub.execute_input": "2024-05-15T13:08:50.973246Z",
     "iopub.status.busy": "2024-05-15T13:08:50.972396Z",
     "iopub.status.idle": "2024-05-15T13:09:23.299008Z",
     "shell.execute_reply": "2024-05-15T13:09:23.297886Z"
    },
    "papermill": {
     "duration": 32.350083,
     "end_time": "2024-05-15T13:09:23.301786",
     "exception": false,
     "start_time": "2024-05-15T13:08:50.951703",
     "status": "completed"
    },
    "tags": []
   },
   "outputs": [],
   "source": [
    "undersampled_df[\"haber\"] = undersampled_df[\"haber\"].apply(clean_text)"
   ]
  },
  {
   "cell_type": "code",
   "execution_count": 43,
   "id": "8ed1f0da",
   "metadata": {
    "execution": {
     "iopub.execute_input": "2024-05-15T13:09:23.343883Z",
     "iopub.status.busy": "2024-05-15T13:09:23.343471Z",
     "iopub.status.idle": "2024-05-15T13:09:23.359323Z",
     "shell.execute_reply": "2024-05-15T13:09:23.358250Z"
    },
    "papermill": {
     "duration": 0.039592,
     "end_time": "2024-05-15T13:09:23.361658",
     "exception": false,
     "start_time": "2024-05-15T13:09:23.322066",
     "status": "completed"
    },
    "tags": []
   },
   "outputs": [
    {
     "data": {
      "text/html": [
       "<div>\n",
       "<style scoped>\n",
       "    .dataframe tbody tr th:only-of-type {\n",
       "        vertical-align: middle;\n",
       "    }\n",
       "\n",
       "    .dataframe tbody tr th {\n",
       "        vertical-align: top;\n",
       "    }\n",
       "\n",
       "    .dataframe thead th {\n",
       "        text-align: right;\n",
       "    }\n",
       "</style>\n",
       "<table border=\"1\" class=\"dataframe\">\n",
       "  <thead>\n",
       "    <tr style=\"text-align: right;\">\n",
       "      <th></th>\n",
       "      <th>haber</th>\n",
       "      <th>sinif</th>\n",
       "      <th>words</th>\n",
       "    </tr>\n",
       "  </thead>\n",
       "  <tbody>\n",
       "    <tr>\n",
       "      <th>1180862</th>\n",
       "      <td>ü alana yasak gelmesini engellemek için haberi...</td>\n",
       "      <td>Siyaset</td>\n",
       "      <td>130</td>\n",
       "    </tr>\n",
       "    <tr>\n",
       "      <th>428660</th>\n",
       "      <td>hdp li başkan  örgüt propagandası  suçundan tu...</td>\n",
       "      <td>Siyaset</td>\n",
       "      <td>127</td>\n",
       "    </tr>\n",
       "    <tr>\n",
       "      <th>733804</th>\n",
       "      <td>a bahanesiyle organize edildiğini söyledi  put...</td>\n",
       "      <td>Siyaset</td>\n",
       "      <td>139</td>\n",
       "    </tr>\n",
       "    <tr>\n",
       "      <th>189347</th>\n",
       "      <td>gençlik ve spor bakanı mehmet muharrem kasapoğ...</td>\n",
       "      <td>Siyaset</td>\n",
       "      <td>124</td>\n",
       "    </tr>\n",
       "    <tr>\n",
       "      <th>794541</th>\n",
       "      <td>chp li isimden çarpıcı açıklama   süreç o nokt...</td>\n",
       "      <td>Siyaset</td>\n",
       "      <td>144</td>\n",
       "    </tr>\n",
       "    <tr>\n",
       "      <th>...</th>\n",
       "      <td>...</td>\n",
       "      <td>...</td>\n",
       "      <td>...</td>\n",
       "    </tr>\n",
       "    <tr>\n",
       "      <th>1374944</th>\n",
       "      <td>eler ile tarımda ciddi bir olumsuz dönüşüm yaş...</td>\n",
       "      <td>Çevre</td>\n",
       "      <td>126</td>\n",
       "    </tr>\n",
       "    <tr>\n",
       "      <th>195731</th>\n",
       "      <td>r türkiye’den ekoloji kolektifi üyesi cem günd...</td>\n",
       "      <td>Çevre</td>\n",
       "      <td>136</td>\n",
       "    </tr>\n",
       "    <tr>\n",
       "      <th>495355</th>\n",
       "      <td>ültesi öğretim üyesi prof  dr  sıddık cindoruk...</td>\n",
       "      <td>Çevre</td>\n",
       "      <td>132</td>\n",
       "    </tr>\n",
       "    <tr>\n",
       "      <th>1218658</th>\n",
       "      <td>lık bakanı’nın kurucusu olduğu medipol ünivers...</td>\n",
       "      <td>Çevre</td>\n",
       "      <td>126</td>\n",
       "    </tr>\n",
       "    <tr>\n",
       "      <th>417541</th>\n",
       "      <td>k büyük tsunamiler beklenmiyor  bir normal fay...</td>\n",
       "      <td>Çevre</td>\n",
       "      <td>140</td>\n",
       "    </tr>\n",
       "  </tbody>\n",
       "</table>\n",
       "<p>278674 rows × 3 columns</p>\n",
       "</div>"
      ],
      "text/plain": [
       "                                                     haber    sinif  words\n",
       "1180862  ü alana yasak gelmesini engellemek için haberi...  Siyaset    130\n",
       "428660   hdp li başkan  örgüt propagandası  suçundan tu...  Siyaset    127\n",
       "733804   a bahanesiyle organize edildiğini söyledi  put...  Siyaset    139\n",
       "189347   gençlik ve spor bakanı mehmet muharrem kasapoğ...  Siyaset    124\n",
       "794541   chp li isimden çarpıcı açıklama   süreç o nokt...  Siyaset    144\n",
       "...                                                    ...      ...    ...\n",
       "1374944  eler ile tarımda ciddi bir olumsuz dönüşüm yaş...    Çevre    126\n",
       "195731   r türkiye’den ekoloji kolektifi üyesi cem günd...    Çevre    136\n",
       "495355   ültesi öğretim üyesi prof  dr  sıddık cindoruk...    Çevre    132\n",
       "1218658  lık bakanı’nın kurucusu olduğu medipol ünivers...    Çevre    126\n",
       "417541   k büyük tsunamiler beklenmiyor  bir normal fay...    Çevre    140\n",
       "\n",
       "[278674 rows x 3 columns]"
      ]
     },
     "execution_count": 43,
     "metadata": {},
     "output_type": "execute_result"
    }
   ],
   "source": [
    "undersampled_df"
   ]
  },
  {
   "cell_type": "code",
   "execution_count": 44,
   "id": "15f87f44",
   "metadata": {
    "execution": {
     "iopub.execute_input": "2024-05-15T13:09:23.405461Z",
     "iopub.status.busy": "2024-05-15T13:09:23.405097Z",
     "iopub.status.idle": "2024-05-15T13:10:44.123494Z",
     "shell.execute_reply": "2024-05-15T13:10:44.122423Z"
    },
    "papermill": {
     "duration": 80.741777,
     "end_time": "2024-05-15T13:10:44.126036",
     "exception": false,
     "start_time": "2024-05-15T13:09:23.384259",
     "status": "completed"
    },
    "tags": []
   },
   "outputs": [],
   "source": [
    "word_freq= undersampled_df.haber.str.split(expand=True).stack().value_counts()\n"
   ]
  },
  {
   "cell_type": "code",
   "execution_count": 45,
   "id": "d89f60e0",
   "metadata": {
    "execution": {
     "iopub.execute_input": "2024-05-15T13:10:44.164402Z",
     "iopub.status.busy": "2024-05-15T13:10:44.164063Z",
     "iopub.status.idle": "2024-05-15T13:10:44.278866Z",
     "shell.execute_reply": "2024-05-15T13:10:44.277827Z"
    },
    "papermill": {
     "duration": 0.136517,
     "end_time": "2024-05-15T13:10:44.281282",
     "exception": false,
     "start_time": "2024-05-15T13:10:44.144765",
     "status": "completed"
    },
    "tags": []
   },
   "outputs": [],
   "source": [
    "word_freq=word_freq.reset_index(name='freq').rename(columns={'index': 'word'})"
   ]
  },
  {
   "cell_type": "code",
   "execution_count": 46,
   "id": "3c915e19",
   "metadata": {
    "execution": {
     "iopub.execute_input": "2024-05-15T13:10:44.320597Z",
     "iopub.status.busy": "2024-05-15T13:10:44.319879Z",
     "iopub.status.idle": "2024-05-15T13:10:44.332769Z",
     "shell.execute_reply": "2024-05-15T13:10:44.331893Z"
    },
    "papermill": {
     "duration": 0.03478,
     "end_time": "2024-05-15T13:10:44.334861",
     "exception": false,
     "start_time": "2024-05-15T13:10:44.300081",
     "status": "completed"
    },
    "tags": []
   },
   "outputs": [
    {
     "data": {
      "text/html": [
       "<div>\n",
       "<style scoped>\n",
       "    .dataframe tbody tr th:only-of-type {\n",
       "        vertical-align: middle;\n",
       "    }\n",
       "\n",
       "    .dataframe tbody tr th {\n",
       "        vertical-align: top;\n",
       "    }\n",
       "\n",
       "    .dataframe thead th {\n",
       "        text-align: right;\n",
       "    }\n",
       "</style>\n",
       "<table border=\"1\" class=\"dataframe\">\n",
       "  <thead>\n",
       "    <tr style=\"text-align: right;\">\n",
       "      <th></th>\n",
       "      <th>word</th>\n",
       "      <th>freq</th>\n",
       "    </tr>\n",
       "  </thead>\n",
       "  <tbody>\n",
       "    <tr>\n",
       "      <th>0</th>\n",
       "      <td>ve</td>\n",
       "      <td>1336396</td>\n",
       "    </tr>\n",
       "    <tr>\n",
       "      <th>1</th>\n",
       "      <td>bir</td>\n",
       "      <td>925483</td>\n",
       "    </tr>\n",
       "    <tr>\n",
       "      <th>2</th>\n",
       "      <td>bu</td>\n",
       "      <td>584461</td>\n",
       "    </tr>\n",
       "    <tr>\n",
       "      <th>3</th>\n",
       "      <td>da</td>\n",
       "      <td>406814</td>\n",
       "    </tr>\n",
       "    <tr>\n",
       "      <th>4</th>\n",
       "      <td>için</td>\n",
       "      <td>368458</td>\n",
       "    </tr>\n",
       "    <tr>\n",
       "      <th>5</th>\n",
       "      <td>de</td>\n",
       "      <td>361762</td>\n",
       "    </tr>\n",
       "    <tr>\n",
       "      <th>6</th>\n",
       "      <td>ile</td>\n",
       "      <td>356082</td>\n",
       "    </tr>\n",
       "    <tr>\n",
       "      <th>7</th>\n",
       "      <td>olarak</td>\n",
       "      <td>230121</td>\n",
       "    </tr>\n",
       "    <tr>\n",
       "      <th>8</th>\n",
       "      <td>daha</td>\n",
       "      <td>202425</td>\n",
       "    </tr>\n",
       "    <tr>\n",
       "      <th>9</th>\n",
       "      <td>çok</td>\n",
       "      <td>198729</td>\n",
       "    </tr>\n",
       "    <tr>\n",
       "      <th>10</th>\n",
       "      <td>en</td>\n",
       "      <td>189533</td>\n",
       "    </tr>\n",
       "    <tr>\n",
       "      <th>11</th>\n",
       "      <td>olan</td>\n",
       "      <td>188110</td>\n",
       "    </tr>\n",
       "    <tr>\n",
       "      <th>12</th>\n",
       "      <td>ise</td>\n",
       "      <td>144280</td>\n",
       "    </tr>\n",
       "    <tr>\n",
       "      <th>13</th>\n",
       "      <td>yüzde</td>\n",
       "      <td>142841</td>\n",
       "    </tr>\n",
       "    <tr>\n",
       "      <th>14</th>\n",
       "      <td>göre</td>\n",
       "      <td>139689</td>\n",
       "    </tr>\n",
       "    <tr>\n",
       "      <th>15</th>\n",
       "      <td>gibi</td>\n",
       "      <td>138598</td>\n",
       "    </tr>\n",
       "    <tr>\n",
       "      <th>16</th>\n",
       "      <td>kadar</td>\n",
       "      <td>136243</td>\n",
       "    </tr>\n",
       "    <tr>\n",
       "      <th>17</th>\n",
       "      <td>yeni</td>\n",
       "      <td>125022</td>\n",
       "    </tr>\n",
       "    <tr>\n",
       "      <th>18</th>\n",
       "      <td>bin</td>\n",
       "      <td>113322</td>\n",
       "    </tr>\n",
       "    <tr>\n",
       "      <th>19</th>\n",
       "      <td>türkiye</td>\n",
       "      <td>112342</td>\n",
       "    </tr>\n",
       "    <tr>\n",
       "      <th>20</th>\n",
       "      <td>her</td>\n",
       "      <td>110271</td>\n",
       "    </tr>\n",
       "    <tr>\n",
       "      <th>21</th>\n",
       "      <td>büyük</td>\n",
       "      <td>108920</td>\n",
       "    </tr>\n",
       "    <tr>\n",
       "      <th>22</th>\n",
       "      <td>ilk</td>\n",
       "      <td>107745</td>\n",
       "    </tr>\n",
       "    <tr>\n",
       "      <th>23</th>\n",
       "      <td>son</td>\n",
       "      <td>103133</td>\n",
       "    </tr>\n",
       "    <tr>\n",
       "      <th>24</th>\n",
       "      <td>yer</td>\n",
       "      <td>98840</td>\n",
       "    </tr>\n",
       "    <tr>\n",
       "      <th>25</th>\n",
       "      <td>dedi</td>\n",
       "      <td>95627</td>\n",
       "    </tr>\n",
       "    <tr>\n",
       "      <th>26</th>\n",
       "      <td>sonra</td>\n",
       "      <td>92616</td>\n",
       "    </tr>\n",
       "    <tr>\n",
       "      <th>27</th>\n",
       "      <td>yıl</td>\n",
       "      <td>92251</td>\n",
       "    </tr>\n",
       "    <tr>\n",
       "      <th>28</th>\n",
       "      <td>olduğunu</td>\n",
       "      <td>91888</td>\n",
       "    </tr>\n",
       "    <tr>\n",
       "      <th>29</th>\n",
       "      <td>devam</td>\n",
       "      <td>91385</td>\n",
       "    </tr>\n",
       "    <tr>\n",
       "      <th>30</th>\n",
       "      <td>tarafından</td>\n",
       "      <td>87261</td>\n",
       "    </tr>\n",
       "    <tr>\n",
       "      <th>31</th>\n",
       "      <td>dr</td>\n",
       "      <td>86957</td>\n",
       "    </tr>\n",
       "    <tr>\n",
       "      <th>32</th>\n",
       "      <td>tüm</td>\n",
       "      <td>82840</td>\n",
       "    </tr>\n",
       "    <tr>\n",
       "      <th>33</th>\n",
       "      <td>sağlık</td>\n",
       "      <td>82833</td>\n",
       "    </tr>\n",
       "    <tr>\n",
       "      <th>34</th>\n",
       "      <td>oldu</td>\n",
       "      <td>81573</td>\n",
       "    </tr>\n",
       "    <tr>\n",
       "      <th>35</th>\n",
       "      <td>önemli</td>\n",
       "      <td>81418</td>\n",
       "    </tr>\n",
       "    <tr>\n",
       "      <th>36</th>\n",
       "      <td>olduğu</td>\n",
       "      <td>78874</td>\n",
       "    </tr>\n",
       "    <tr>\n",
       "      <th>37</th>\n",
       "      <td>ancak</td>\n",
       "      <td>78597</td>\n",
       "    </tr>\n",
       "    <tr>\n",
       "      <th>38</th>\n",
       "      <td>var</td>\n",
       "      <td>77156</td>\n",
       "    </tr>\n",
       "    <tr>\n",
       "      <th>39</th>\n",
       "      <td>ne</td>\n",
       "      <td>74844</td>\n",
       "    </tr>\n",
       "    <tr>\n",
       "      <th>40</th>\n",
       "      <td>başkanı</td>\n",
       "      <td>73769</td>\n",
       "    </tr>\n",
       "    <tr>\n",
       "      <th>41</th>\n",
       "      <td>milyon</td>\n",
       "      <td>71745</td>\n",
       "    </tr>\n",
       "    <tr>\n",
       "      <th>42</th>\n",
       "      <td>fazla</td>\n",
       "      <td>70275</td>\n",
       "    </tr>\n",
       "    <tr>\n",
       "      <th>43</th>\n",
       "      <td>yapılan</td>\n",
       "      <td>70109</td>\n",
       "    </tr>\n",
       "    <tr>\n",
       "      <th>44</th>\n",
       "      <td>ilgili</td>\n",
       "      <td>68856</td>\n",
       "    </tr>\n",
       "    <tr>\n",
       "      <th>45</th>\n",
       "      <td>eden</td>\n",
       "      <td>67660</td>\n",
       "    </tr>\n",
       "    <tr>\n",
       "      <th>46</th>\n",
       "      <td>ya</td>\n",
       "      <td>67166</td>\n",
       "    </tr>\n",
       "    <tr>\n",
       "      <th>47</th>\n",
       "      <td>ın</td>\n",
       "      <td>66860</td>\n",
       "    </tr>\n",
       "    <tr>\n",
       "      <th>48</th>\n",
       "      <td>a</td>\n",
       "      <td>63093</td>\n",
       "    </tr>\n",
       "    <tr>\n",
       "      <th>49</th>\n",
       "      <td>nin</td>\n",
       "      <td>61849</td>\n",
       "    </tr>\n",
       "  </tbody>\n",
       "</table>\n",
       "</div>"
      ],
      "text/plain": [
       "          word     freq\n",
       "0           ve  1336396\n",
       "1          bir   925483\n",
       "2           bu   584461\n",
       "3           da   406814\n",
       "4         için   368458\n",
       "5           de   361762\n",
       "6          ile   356082\n",
       "7       olarak   230121\n",
       "8         daha   202425\n",
       "9          çok   198729\n",
       "10          en   189533\n",
       "11        olan   188110\n",
       "12         ise   144280\n",
       "13       yüzde   142841\n",
       "14        göre   139689\n",
       "15        gibi   138598\n",
       "16       kadar   136243\n",
       "17        yeni   125022\n",
       "18         bin   113322\n",
       "19     türkiye   112342\n",
       "20         her   110271\n",
       "21       büyük   108920\n",
       "22         ilk   107745\n",
       "23         son   103133\n",
       "24         yer    98840\n",
       "25        dedi    95627\n",
       "26       sonra    92616\n",
       "27         yıl    92251\n",
       "28    olduğunu    91888\n",
       "29       devam    91385\n",
       "30  tarafından    87261\n",
       "31          dr    86957\n",
       "32         tüm    82840\n",
       "33      sağlık    82833\n",
       "34        oldu    81573\n",
       "35      önemli    81418\n",
       "36      olduğu    78874\n",
       "37       ancak    78597\n",
       "38         var    77156\n",
       "39          ne    74844\n",
       "40     başkanı    73769\n",
       "41      milyon    71745\n",
       "42       fazla    70275\n",
       "43     yapılan    70109\n",
       "44      ilgili    68856\n",
       "45        eden    67660\n",
       "46          ya    67166\n",
       "47          ın    66860\n",
       "48           a    63093\n",
       "49         nin    61849"
      ]
     },
     "execution_count": 46,
     "metadata": {},
     "output_type": "execute_result"
    }
   ],
   "source": [
    "top_50_frequent_words = word_freq[:50]\n",
    "top_50_frequent_words"
   ]
  },
  {
   "cell_type": "code",
   "execution_count": 47,
   "id": "45b82b71",
   "metadata": {
    "execution": {
     "iopub.execute_input": "2024-05-15T13:10:44.374129Z",
     "iopub.status.busy": "2024-05-15T13:10:44.373787Z",
     "iopub.status.idle": "2024-05-15T13:10:44.387263Z",
     "shell.execute_reply": "2024-05-15T13:10:44.386172Z"
    },
    "papermill": {
     "duration": 0.035385,
     "end_time": "2024-05-15T13:10:44.389193",
     "exception": false,
     "start_time": "2024-05-15T13:10:44.353808",
     "status": "completed"
    },
    "tags": []
   },
   "outputs": [
    {
     "name": "stdout",
     "output_type": "stream",
     "text": [
      "First 5 entries:\n",
      "ama\n",
      "amma\n",
      "anca\n",
      "ancak\n",
      "bu\n"
     ]
    }
   ],
   "source": [
    "tr_stop_words = pd.read_csv('/kaggle/input/trstopwordss/tr_stop_word.txt',header=None)\n",
    "print(\"First 5 entries:\")\n",
    "for each in tr_stop_words.values[:5]:\n",
    "  print(each[0])"
   ]
  },
  {
   "cell_type": "code",
   "execution_count": 48,
   "id": "91f2af6d",
   "metadata": {
    "execution": {
     "iopub.execute_input": "2024-05-15T13:10:44.429374Z",
     "iopub.status.busy": "2024-05-15T13:10:44.428645Z",
     "iopub.status.idle": "2024-05-15T13:10:44.435524Z",
     "shell.execute_reply": "2024-05-15T13:10:44.434575Z"
    },
    "papermill": {
     "duration": 0.030084,
     "end_time": "2024-05-15T13:10:44.438346",
     "exception": false,
     "start_time": "2024-05-15T13:10:44.408262",
     "status": "completed"
    },
    "tags": []
   },
   "outputs": [
    {
     "name": "stdout",
     "output_type": "stream",
     "text": [
      "ve\n",
      "bir\n",
      "bu\n",
      "da\n",
      "için\n",
      "de\n",
      "ile\n",
      "daha\n",
      "çok\n",
      "ise\n",
      "göre\n",
      "gibi\n",
      "kadar\n",
      "sonra\n",
      "dr\n",
      "oldu\n",
      "ancak\n",
      "ya\n",
      "ın\n",
      "a\n"
     ]
    }
   ],
   "source": [
    "for each in top_50_frequent_words['word']:\n",
    "  if each in tr_stop_words.values:\n",
    "    print (each)"
   ]
  },
  {
   "cell_type": "code",
   "execution_count": 49,
   "id": "a1137496",
   "metadata": {
    "execution": {
     "iopub.execute_input": "2024-05-15T13:10:44.479427Z",
     "iopub.status.busy": "2024-05-15T13:10:44.478877Z",
     "iopub.status.idle": "2024-05-15T13:10:44.483746Z",
     "shell.execute_reply": "2024-05-15T13:10:44.482915Z"
    },
    "papermill": {
     "duration": 0.026945,
     "end_time": "2024-05-15T13:10:44.485667",
     "exception": false,
     "start_time": "2024-05-15T13:10:44.458722",
     "status": "completed"
    },
    "tags": []
   },
   "outputs": [],
   "source": [
    "def remove_stopwords(text):\n",
    "    words = text.split()\n",
    "    clean_words = [word for word in words if word.lower() not in tr_stop_words.values]\n",
    "    return ' '.join(clean_words)"
   ]
  },
  {
   "cell_type": "code",
   "execution_count": 50,
   "id": "07169506",
   "metadata": {
    "execution": {
     "iopub.execute_input": "2024-05-15T13:10:44.524228Z",
     "iopub.status.busy": "2024-05-15T13:10:44.523772Z",
     "iopub.status.idle": "2024-05-15T13:35:24.245857Z",
     "shell.execute_reply": "2024-05-15T13:35:24.244977Z"
    },
    "papermill": {
     "duration": 1479.743919,
     "end_time": "2024-05-15T13:35:24.248224",
     "exception": false,
     "start_time": "2024-05-15T13:10:44.504305",
     "status": "completed"
    },
    "tags": []
   },
   "outputs": [],
   "source": [
    "undersampled_df[\"haber\"] =undersampled_df[\"haber\"].apply(remove_stopwords)"
   ]
  },
  {
   "cell_type": "code",
   "execution_count": 51,
   "id": "e82ee283",
   "metadata": {
    "execution": {
     "iopub.execute_input": "2024-05-15T13:35:24.287480Z",
     "iopub.status.busy": "2024-05-15T13:35:24.287196Z",
     "iopub.status.idle": "2024-05-15T13:35:24.327308Z",
     "shell.execute_reply": "2024-05-15T13:35:24.326549Z"
    },
    "papermill": {
     "duration": 0.062263,
     "end_time": "2024-05-15T13:35:24.329626",
     "exception": false,
     "start_time": "2024-05-15T13:35:24.267363",
     "status": "completed"
    },
    "tags": []
   },
   "outputs": [],
   "source": [
    "undersampled_df = undersampled_df.set_index('words')  \n"
   ]
  },
  {
   "cell_type": "code",
   "execution_count": 52,
   "id": "c6444dce",
   "metadata": {
    "execution": {
     "iopub.execute_input": "2024-05-15T13:35:24.368688Z",
     "iopub.status.busy": "2024-05-15T13:35:24.368351Z",
     "iopub.status.idle": "2024-05-15T13:35:42.162171Z",
     "shell.execute_reply": "2024-05-15T13:35:42.161276Z"
    },
    "papermill": {
     "duration": 17.815812,
     "end_time": "2024-05-15T13:35:42.164617",
     "exception": false,
     "start_time": "2024-05-15T13:35:24.348805",
     "status": "completed"
    },
    "tags": []
   },
   "outputs": [],
   "source": [
    "undersampled_df.to_csv('undersampled_data.csv') "
   ]
  },
  {
   "cell_type": "code",
   "execution_count": null,
   "id": "ae34a7d2",
   "metadata": {
    "papermill": {
     "duration": 0.019695,
     "end_time": "2024-05-15T13:35:42.203848",
     "exception": false,
     "start_time": "2024-05-15T13:35:42.184153",
     "status": "completed"
    },
    "tags": []
   },
   "outputs": [],
   "source": []
  }
 ],
 "metadata": {
  "kaggle": {
   "accelerator": "nvidiaTeslaT4",
   "dataSources": [
    {
     "datasetId": 4986611,
     "sourceId": 8384546,
     "sourceType": "datasetVersion"
    },
    {
     "datasetId": 5012903,
     "sourceId": 8420462,
     "sourceType": "datasetVersion"
    }
   ],
   "dockerImageVersionId": 30699,
   "isGpuEnabled": true,
   "isInternetEnabled": true,
   "language": "python",
   "sourceType": "notebook"
  },
  "kernelspec": {
   "display_name": "Python 3",
   "language": "python",
   "name": "python3"
  },
  "language_info": {
   "codemirror_mode": {
    "name": "ipython",
    "version": 3
   },
   "file_extension": ".py",
   "mimetype": "text/x-python",
   "name": "python",
   "nbconvert_exporter": "python",
   "pygments_lexer": "ipython3",
   "version": "3.10.13"
  },
  "papermill": {
   "default_parameters": {},
   "duration": 1745.315661,
   "end_time": "2024-05-15T13:35:44.151328",
   "environment_variables": {},
   "exception": null,
   "input_path": "__notebook__.ipynb",
   "output_path": "__notebook__.ipynb",
   "parameters": {},
   "start_time": "2024-05-15T13:06:38.835667",
   "version": "2.5.0"
  }
 },
 "nbformat": 4,
 "nbformat_minor": 5
}
